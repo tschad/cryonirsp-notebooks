{
 "cells": [
  {
   "cell_type": "code",
   "execution_count": 32,
   "id": "7bc70f46-16a3-4f70-8012-4f1f6b5c5b1c",
   "metadata": {},
   "outputs": [
    {
     "data": {
      "text/html": [
       "<style>\n",
       "    @font-face {\n",
       "        font-family: \"Computer Modern\";\n",
       "        src: url('http://9dbb143991406a7c655e-aa5fcb0a5a4ec34cff238a2d56ca4144.r56.cf5.rackcdn.com/cmunss.otf');\n",
       "    }\n",
       "    @font-face {\n",
       "        font-family: \"Computer Modern\";\n",
       "        font-weight: bold;\n",
       "        src: url('http://9dbb143991406a7c655e-aa5fcb0a5a4ec34cff238a2d56ca4144.r56.cf5.rackcdn.com/cmunsx.otf');\n",
       "    }\n",
       "    @font-face {\n",
       "        font-family: \"Computer Modern\";\n",
       "        font-style: oblique;\n",
       "        src: url('http://9dbb143991406a7c655e-aa5fcb0a5a4ec34cff238a2d56ca4144.r56.cf5.rackcdn.com/cmunsi.otf');\n",
       "    }\n",
       "    @font-face {\n",
       "        font-family: \"Computer Modern\";\n",
       "        font-weight: bold;\n",
       "        font-style: oblique;\n",
       "        src: url('http://9dbb143991406a7c655e-aa5fcb0a5a4ec34cff238a2d56ca4144.r56.cf5.rackcdn.com/cmunso.otf');\n",
       "    }\n",
       "    div.cell{\n",
       "        width:800px;\n",
       "        margin-left:16% !important;\n",
       "        margin-right:auto;\n",
       "    }\n",
       "    .jp-Notebook .jp-MarkdownCell .jp-Cell-inputWrapper {\n",
       "        background-color: rgb(230,230,230); /* Change this to your preferred color */\n",
       "        padding: 0px; /* Optional: add padding for better readability */\n",
       "        border-radius: 5px; /* Optional: rounded corners */\n",
       "        max-width: 100%; /* Optional: adjust width to prevent stretching */\n",
       "        margin: 0 auto; /* Center the content within the cell */\n",
       "    }\n",
       "    h1 {\n",
       "        font-family: Helvetica, serif;\n",
       "        padding: 8px 12px;\n",
       "        color: rgb(255,255,255);\n",
       "        border-radius: 10px;\n",
       "        background-color: #1f3541;\n",
       "    }\n",
       "    h2 {\n",
       "        font-family: Helvetica, serif;\n",
       "        padding: 8px 12px;\n",
       "        color: rgb(255,255,255);\n",
       "        background-color: #5289b5;\n",
       "    }\n",
       "    h3{\n",
       "        margin-top:12px;\n",
       "        margin-bottom: 3px;\n",
       "        padding: 8px 12px;\n",
       "        color: #1f3541;\n",
       "        background-color: #afd8f2;\n",
       "       }\n",
       "    h4{\n",
       "        margin-top:12px;\n",
       "        margin-bottom: 3px;\n",
       "       }\n",
       "    div.text_cell_render{\n",
       "        font-family: Computer Modern, \"Helvetica Neue\", Arial, Helvetica, Geneva, sans-serif;\n",
       "        line-height: 145%;\n",
       "        font-size: 130%;\n",
       "        width:800px;\n",
       "        margin-left:auto;\n",
       "        margin-right:auto;\n",
       "    }\n",
       "    .CodeMirror{\n",
       "            font-family: \"Source Code Pro\", source-code-pro,Consolas, monospace;\n",
       "    }\n",
       "    .prompt{\n",
       "        display: None;\n",
       "    }\n",
       "    .text_cell_render h5 {\n",
       "        font-weight: 300;\n",
       "        font-size: 22pt;\n",
       "        color: #4057A1;\n",
       "        font-style: italic;\n",
       "        margin-bottom: .5em;\n",
       "        margin-top: 0.5em;\n",
       "        display: block;\n",
       "    }\n",
       "    \n",
       "    .warning{\n",
       "        color: rgb( 240, 20, 20 )\n",
       "        }  \n",
       "</style>\n",
       "<script>\n",
       "    MathJax.Hub.Config({\n",
       "                        TeX: {\n",
       "                           extensions: [\"AMSmath.js\"]\n",
       "                           },\n",
       "                tex2jax: {\n",
       "                    inlineMath: [ ['$','$'], [\"\\\\(\",\"\\\\)\"] ],\n",
       "                    displayMath: [ ['$$','$$'], [\"\\\\[\",\"\\\\]\"] ]\n",
       "                },\n",
       "                displayAlign: 'center', // Change this to 'center' to center equations.\n",
       "                \"HTML-CSS\": {\n",
       "                    styles: {'.MathJax_Display': {\"margin\": 4}}\n",
       "                }\n",
       "        });\n",
       "</script>\n"
      ],
      "text/plain": [
       "<IPython.core.display.HTML object>"
      ]
     },
     "execution_count": 32,
     "metadata": {},
     "output_type": "execute_result"
    }
   ],
   "source": [
    "## Styling notebook\n",
    "from IPython.core.display import HTML\n",
    "HTML(open(\"./styles/custom.css\",\"r\").read())"
   ]
  },
  {
   "cell_type": "markdown",
   "id": "576feb00-4d36-4112-9ed8-84d6d4204d8a",
   "metadata": {
    "editable": true,
    "papermill": {
     "duration": 0.004966,
     "end_time": "2024-06-27T19:22:30.481127",
     "exception": false,
     "start_time": "2024-06-27T19:22:30.476161",
     "status": "completed"
    },
    "slideshow": {
     "slide_type": ""
    },
    "tags": []
   },
   "source": [
    "# CryoNIRSP Level 1 FITS Data:  Coronal spectral line fitting (spectroscopy and polarimetry)\n",
    "\n",
    "DKIST | NSO | CRYONIRSP | 10 September 2024 \n",
    "--> Prepared for the first CryoNIRSP Data Release by Tom Schad (tschad@nso.edu) \n",
    "\n",
    "**Goals of this notebook:**\n",
    "\n",
    "*  This notebook is provided to DKIST/CryoNIRSP users by the CryoNIRSP team to illustrate ways to work with the coronal spectral data. \n",
    "*  The notebook loads CryoNIRSP SP data from the L1 fits files and performs spectral line fits to extract coronal parameters while also accounting for background scattered light introduced by the combination of the sky and telescope + instrument.  It then creates maps of these quantities.\n",
    "*  It also does full polarimetric line fits, which also mitigates polarimetric crosstalk, in order to extract the line and continuum linear polarization as the line Zeeman circular polarized signal for longitudinal magnetic field diagnostics.\n",
    "\n",
    "**About the CryoNIRSP data release:**\n",
    "\n",
    "* On 21 August 2024, the Level 1 data pipeline for the Cryo-NIRSP reached its first official release within the Data Center software stack (https://docs.dkist.nso.edu/projects/cryo-nirsp/en/latest/) \n",
    "* The backlog of Cycle 2 CryoNIRSP data was then bulk processed, of which 85 percent was successful and then made available, in accordance with the DKIST Data Policy via the DKIST Data Center Data Archive (https://dkist.data.nso.edu/).\n",
    "* This is the first public release of the CryoNIRSP spectrograph and context imager data, and it comprises only off-limb coronagraphic data.  Many technical challenges have been overcome to reach this point; albeit, many additional ones (known and unknown) remain.  \n",
    "\n",
    "**About the data used in this notebook:**\n",
    "\n",
    "* A single dataset from Cycle 2 Experiment #119 is used here.  This experiment collected many different types of datasets around the time of the April 2024 total solar eclipse that traversed North America. This data resulted from a Director's Discretionary Time (DDT) proposal and all of its data is publically available without an embargo period.\n",
    "* The dataset used here has an Dataset ID of BZJOM.  This ID is assigned by the Data Center.  The Observing Program ID assigned at the time of execution on summit is \"eid_2_119_opr0oJqs_R001.150682.6087226\"\n",
    "* The data consists of a spectropolarimetric raster scan that is centered on the Fe XIII 1074 nm coronal line.  The scan consisted of 51 scan step positions (i.e. scanning of the image across the slit).  At each step position, a full Stokes measurement was acquired 10 times.  Within the Level 1 calibrated data, each unique Stokes parameter, scan step, and repeated measurement are saved into a single RICE compressed FITS file.  And so, in this case, there are 4*51*10 = 2040 FITS files.  \n",
    "* Data may be downloaded from:   https://dkist.data.nso.edu?datasetId=BZJOM\n",
    "* Other datasets in the experiment are available in the data archive:  https://dkist.data.nso.edu/?proposalId=pid_2_119\n",
    "* *Supplemental data:* We use solar and telluric atlases as part of the model fitting processes.  These are automatically downloaded from the source repositorites via the code in this notebook. See below for more information.\n",
    "\n",
    "**Important disclaimers:**\n",
    "\n",
    "* **The data used in this notebook must be downloaded from the Data Center prior to running it.**\n",
    "* This notebook is **NOT** meant to serve as a definitive ``black box'' for CryoNIRSP spectral analysis.  The novelty and challenges of coronagraphic spectral data require more concerted efforts on the behalf of users to engage with and improve spectral analysis methods.  Feedback to the CryoNIRSP team is encouraged. \n",
    "* The ASDF files included in the data distribution have known flaws and errors for the CryoNIRSP data at this time, in particular relating to metadata.  It is thus recommended to work with FITS files directly, as shown in this notebook.\n",
    "* Analysis methods subject to change. \n",
    "\n",
    "**Useful References:** \n",
    "\n",
    "* Fehlmann, A. et al. \"The Daniel K. Inouye Solar Telescope (DKIST) Cryogenic Near-Infrared Spectro-Polarimeter (Cryo-NIRSP)\" Solar Physics. 298 5 (2023)\n",
    "* Schad, T.A. et al. \"Thomson Scattering above Solar Active Regions and an Ad Hoc Polarization Correction Method for the Emissive Corona\" The Astrophysical Journal. 943 59S (2023).\n",
    "* Schad, T.A. et al. \"First Infrared Coronal Spectra from DKIST/Cryo-NIRSP: Comparisons with Global MHD Models\" The Astrophysical Journal. 943 59S (2023).\n",
    "* Schad, T.A. et al. \"Coronagraph Observations of Si X 1430 nm Acquired by DKIST/Cryo-NIRSP with Methods for Telluric Absorption Correction.\" The Astrophysical Journal. 965 1, 40S (2024)\n",
    "* Schad, T.A. et al. \"Mapping the Sun’s coronal magnetic field using the Zeeman effect\" Science Advances, in press."
   ]
  },
  {
   "cell_type": "code",
   "execution_count": 30,
   "id": "39ba4c8c-8568-4cd6-b2fd-5d2a181d770d",
   "metadata": {
    "editable": true,
    "papermill": {
     "duration": 2.469264,
     "end_time": "2024-06-27T19:22:32.955539",
     "exception": false,
     "start_time": "2024-06-27T19:22:30.486275",
     "status": "completed"
    },
    "slideshow": {
     "slide_type": ""
    },
    "tags": []
   },
   "outputs": [],
   "source": [
    "## MOSTLY STANDARD PYTHON PACKAGES IN USE AVAILABLE FROM STANDARD REPOSITORIES\n",
    "import os\n",
    "import numpy as np\n",
    "import glob\n",
    "import warnings \n",
    "from tqdm import tqdm\n",
    "from tqdm.auto import trange \n",
    "from datetime import datetime\n",
    "\n",
    "from scipy import ndimage,signal\n",
    "from scipy.optimize import differential_evolution, minimize\n",
    "import multiprocessing \n",
    "\n",
    "from astropy.io import fits \n",
    "from astropy.time import Time\n",
    "import astropy.units as u\n",
    "from astropy.wcs import WCS  \n",
    "import sunpy.map\n",
    "from sunpy.coordinates import sun\n",
    "\n",
    "import hvpy ## helioviewer api for pulling quick context images from SDO/AIA (JPEG2000 compressed) \n",
    "from numba import njit  ## Just in time compiler for faster code snippets -- dependency can be removed it njit decorators below are removed. \n",
    "\n",
    "### PLOTTING TOOL \n",
    "import matplotlib.pyplot as plt\n",
    "from matplotlib.colors import LogNorm,PowerNorm\n",
    "%matplotlib inline   \n",
    "#### Change to widget backend if desired:  %matplotlib widget\n",
    "plt.rcParams.update({'figure.max_open_warning': 0})\n",
    "plt.rcParams[\"image.origin\"] = 'lower'\n",
    "plt.rcParams[\"image.cmap\"] = 'gray'\n",
    "plt.rcParams[\"image.interpolation\"] = 'nearest'"
   ]
  },
  {
   "cell_type": "markdown",
   "id": "4af8cd18-c252-426e-9cf0-b7f18135f23e",
   "metadata": {},
   "source": [
    "# Dataset definition and metadata examination"
   ]
  },
  {
   "cell_type": "markdown",
   "id": "5f43bae9-68aa-43df-a28b-0c770f497c9e",
   "metadata": {},
   "source": [
    "## Define input dataset directory\n",
    "\n",
    "* Here we define the directory that holds a single spectrograph dataset.\n",
    "* The directory as downloaded from the DKIST data center will be named according to the dataset ID (BZJOM)\n",
    "* Data may be downloaded from:   https://dkist.data.nso.edu?datasetId=BZJOM \n",
    "* For illustrative purposes, here the dataset directory is actually a symbolic link that is given a more intuitutive directory name. \n",
    "* To run this notebook yourself, input the dataset directory where your local copy of the data resides. "
   ]
  },
  {
   "cell_type": "code",
   "execution_count": 5,
   "id": "8474ed01-979d-4857-84ac-c38c3ebf1369",
   "metadata": {
    "editable": true,
    "papermill": {
     "duration": null,
     "end_time": null,
     "exception": null,
     "start_time": null,
     "status": "completed"
    },
    "slideshow": {
     "slide_type": ""
    },
    "tags": []
   },
   "outputs": [
    {
     "name": "stdout",
     "output_type": "stream",
     "text": [
      "Dataset directory: ../dataset_links/20240323T2308_SP_10747_BZJOM/\n",
      "Number of FITS files in directory: 2040\n"
     ]
    }
   ],
   "source": [
    "dataset_directory = '../dataset_links/20240323T2308_SP_10747_BZJOM/'\n",
    "print(f\"Dataset directory: {dataset_directory}\")\n",
    "print(f\"Number of FITS files in directory: {len(glob.glob(dataset_directory + '*fits'))}\")"
   ]
  },
  {
   "cell_type": "markdown",
   "id": "2fc286ea-24a0-4d38-a328-d39e542a83de",
   "metadata": {
    "papermill": {
     "duration": null,
     "end_time": null,
     "exception": null,
     "start_time": null,
     "status": "completed"
    },
    "tags": []
   },
   "source": [
    "## Locating the FITS files\n",
    "\n",
    "* Here we get a list of the L1 FITS files from CryoNIRSP.\n",
    "* In general, each Stokes state will have a separate FITS file, but here *we only load the intensity spectra headers*.  The headers of the other states are largely the same with the exception of the Stokes state metadata.  \n",
    "* FITS files are RICE compressed (i..e the data and header must be read from HDU #1)\n",
    "* The filenames have the instrument name and arm (SP ==> spectrograph), timestamp, wavelength, and Stokes state in it. "
   ]
  },
  {
   "cell_type": "code",
   "execution_count": 6,
   "id": "4aebc114-7806-4f8a-804f-dc8eb4f65be9",
   "metadata": {
    "editable": true,
    "slideshow": {
     "slide_type": ""
    },
    "tags": []
   },
   "outputs": [
    {
     "name": "stdout",
     "output_type": "stream",
     "text": [
      "There are 510 L1 Intensity FITS files within the directory\n",
      "...here are the first few files\n",
      "CRYO-NIRSP_SP_2024_03_23T23_08_23_682_01074700_I_BZJOM_L1.fits\n",
      "CRYO-NIRSP_SP_2024_03_23T23_08_31_085_01074700_I_BZJOM_L1.fits\n",
      "CRYO-NIRSP_SP_2024_03_23T23_08_38_488_01074700_I_BZJOM_L1.fits\n",
      "CRYO-NIRSP_SP_2024_03_23T23_08_45_892_01074700_I_BZJOM_L1.fits\n",
      "CRYO-NIRSP_SP_2024_03_23T23_08_53_295_01074700_I_BZJOM_L1.fits\n",
      " \n",
      "First filename: CRYO-NIRSP_SP_2024_03_23T23_08_23_682_01074700_I_BZJOM_L1.fits\n",
      "Last filename:  CRYO-NIRSP_SP_2024_03_24T00_11_58_296_01074700_I_BZJOM_L1.fits\n"
     ]
    }
   ],
   "source": [
    "## STOKES I IMAGE FILENAMES \n",
    "L1_filenames = glob.glob(dataset_directory + '*_I_*.fits')\n",
    "L1_filenames.sort()  ## sorting using the time stamps\n",
    "\n",
    "print(f\"There are {len(L1_filenames)} L1 Intensity FITS files within the directory\")\n",
    "\n",
    "print(\"...here are the first few files\")\n",
    "for f in L1_filenames[:5]: print(os.path.basename(f))\n",
    "print(' ')\n",
    "print(f\"First filename: {os.path.basename(L1_filenames[0])}\")\n",
    "print(f\"Last filename:  {os.path.basename(L1_filenames[-1])}\")"
   ]
  },
  {
   "cell_type": "markdown",
   "id": "e0a8cd13-0e2e-47b2-9da1-e967c7188231",
   "metadata": {
    "editable": true,
    "slideshow": {
     "slide_type": ""
    },
    "tags": []
   },
   "source": [
    "## Load all headers to extract some information about the dataset as a whole \n",
    "\n",
    "* The \"ASDF\" files provided with the Data will automatically provide an object that sorts and organizing the data set.\n",
    "* However we do not use the ASDF file as there are currently metadata issues in that object.  We use the L1 Fits files directly.  \n",
    "* Its also good to have a better understanding of how the instrument operates to create spatial/temporal coverage of a target"
   ]
  },
  {
   "cell_type": "code",
   "execution_count": 7,
   "id": "3203d2f0-c3f8-4a4e-ac0f-fdffe8c59e73",
   "metadata": {},
   "outputs": [
    {
     "name": "stdout",
     "output_type": "stream",
     "text": [
      "Trying load of dkist user tools to look at ASDF file data shape\n",
      "Dataset data shape: (4, 51, 10, 1917, 902)\n"
     ]
    }
   ],
   "source": [
    "## in case you have the dkist user tools package installed you can load and look at the data set shape using the asdf file\n",
    "## Note that there are known metadata errors in this asdf file (including both spectral and spatial axes)\n",
    "try: \n",
    "    print('Trying load of dkist user tools to look at ASDF file data shape') \n",
    "    import dkist\n",
    "    dset = dkist.load_dataset('../dataset_links/20240323T2308_SP_10747_BZJOM/CRYO-NIRSP_L1_20240323T230827_BZJOM_user_tools.asdf')\n",
    "    print(f\"Dataset data shape: {dset.data.shape}\")   ## Prints (4, 51, 10, 1917, 902) for BZJOM\n",
    "except:\n",
    "    print('....DKIST user tool loading did not work --> thats okay as we load the FITS files directly below')"
   ]
  },
  {
   "cell_type": "code",
   "execution_count": 8,
   "id": "bf8d64af-4635-4607-9ebd-0383cba3a14b",
   "metadata": {},
   "outputs": [
    {
     "data": {
      "application/vnd.jupyter.widget-view+json": {
       "model_id": "d452c58a456245a9abf05e2f8154d890",
       "version_major": 2,
       "version_minor": 0
      },
      "text/plain": [
       "  0%|          | 0/510 [00:00<?, ?it/s]"
      ]
     },
     "metadata": {},
     "output_type": "display_data"
    }
   ],
   "source": [
    "## GET ALL HEADERS\n",
    "hdrs = []\n",
    "for n in trange(len(L1_filenames)): \n",
    "    hdrs.append(fits.getheader(L1_filenames[n],ext=1))"
   ]
  },
  {
   "cell_type": "code",
   "execution_count": 9,
   "id": "ce93ab1b-e6a9-4575-895c-f9ef56e52d52",
   "metadata": {},
   "outputs": [
    {
     "name": "stdout",
     "output_type": "stream",
     "text": [
      "Data product information at: https://docs.dkist.nso.edu/projects/data-products/en/v4.6.0\n"
     ]
    }
   ],
   "source": [
    "print(f\"Data product information at: {hdrs[0]['HEAD_URL']}\")"
   ]
  },
  {
   "cell_type": "code",
   "execution_count": 10,
   "id": "e7640fc6-1e39-4e31-9ba0-8e887b58fb4d",
   "metadata": {},
   "outputs": [],
   "source": [
    "## Put all of the headers into a dictorary for easier manipulation\n",
    "hdr_dict = {}\n",
    "hdr_dict['datetimes'] = np.array([Time(hdr['DATE-AVG']).to_datetime() for hdr in hdrs])  ## datetimes useful for plotting\n",
    "for key in hdrs[0].keys():\n",
    "    if key =='COMMENT' or key == '': continue  ## do not include comments and black header cards\n",
    "    hdr_dict[key] = np.empty(len(hdrs),dtype = 'O')\n",
    "    for n in range(len(hdrs)):  hdr_dict[key][n] = hdrs[n][key] "
   ]
  },
  {
   "cell_type": "code",
   "execution_count": 11,
   "id": "a03c2330-73a4-46de-8f7d-5fb5a5cddf48",
   "metadata": {},
   "outputs": [
    {
     "data": {
      "text/plain": [
       "XTENSION= 'IMAGE   '                                                            \n",
       "BITPIX  =                  -32                                                  \n",
       "NAXIS   =                    3                                                  \n",
       "NAXIS1  =                  902 / [pix]                                          \n",
       "NAXIS2  =                 1917 / [pix]                                          \n",
       "NAXIS3  =                    1 / [pix]                                          \n",
       "PCOUNT  =                    0                                                  \n",
       "GCOUNT  =                    1                                                  \n",
       "BUNIT   = 'ct      '                                                            \n",
       "DATE    = '2024-08-25T04:30:46.178'                                             \n",
       "DATE-BEG= '2024-03-23T23:08:23.682'                                             \n",
       "DATE-END= '2024-03-23T23:08:30.884'                                             \n",
       "TELAPSE =    7.201999635435641 / [s]                                            \n",
       "DATE-AVG= '2024-03-23T23:08:27.283000'                                          \n",
       "ORIGIN  = 'National Solar Observatory'                                          \n",
       "TELESCOP= 'Daniel K. Inouye Solar Telescope'                                    \n",
       "OBSRVTRY= 'Haleakala High Altitude Observatory Site'                            \n",
       "NETWORK = 'NSF-DKIST'                                                           \n",
       "INSTRUME= 'CRYO-NIRSP'                                                          \n",
       "OBJECT  = 'activecorona'                                                        \n",
       "CHECKSUM= 'anE9dm98amE8am98'   / HDU checksum updated 2024-08-25T04:30:48       \n",
       "DATASUM = '54055915'           / data unit checksum updated 2024-08-25T04:30:48 \n",
       "                                                                                \n",
       "COMMENT ------------------------------ Telescope -------------------------------\n",
       "COMMENT  Keys describing the pointing and operation of the telescope. Including \n",
       "COMMENT     the FITS WCS keys describing the world coordinates of the array.    \n",
       "COMMENT ------------------------------------------------------------------------\n",
       "WCSAXES =                    3                                                  \n",
       "WCSAXESA=                    3                                                  \n",
       "WCSNAME = 'Helioprojective-cartesian'                                           \n",
       "WCSNAMEA= 'Equatorial equinox J2000'                                            \n",
       "CRPIX1  =                  452 / [pix]                                          \n",
       "CRPIX2  =                958.0 / [pix]                                          \n",
       "CRPIX3  =               640.75 / [pix]                                          \n",
       "CRPIX1A =                  452 / [pix]                                          \n",
       "CRPIX2A =                958.0 / [pix]                                          \n",
       "CRPIX3A =               640.75 / [pix]                                          \n",
       "CRVAL1  =   1074.4482741687693                                                  \n",
       "CRVAL2  =   -331.6822344388162                                                  \n",
       "CRVAL3  =    1020.808411991962                                                  \n",
       "CRVAL1A =   1074.4482741687693                                                  \n",
       "CRVAL2A =    1.174567514734376                                                  \n",
       "CRVAL3A =    2.971920364499672                                                  \n",
       "CDELT1  = 0.004397758731354433                                                  \n",
       "CDELT2  =                 0.12                                                  \n",
       "CDELT3  =                 0.12                                                  \n",
       "CDELT1A = 0.004397758731354433                                                  \n",
       "CDELT2A = 3.33333333333333E-05                                                  \n",
       "CDELT3A = 3.33333333333333E-05                                                  \n",
       "CUNIT1  = 'nm      '                                                            \n",
       "CUNIT2  = 'arcsec  '                                                            \n",
       "CUNIT3  = 'arcsec  '                                                            \n",
       "CUNIT1A = 'nm      '                                                            \n",
       "CUNIT2A = 'deg     '                                                            \n",
       "CUNIT3A = 'deg     '                                                            \n",
       "CTYPE1  = 'AWAV-GRA'                                                            \n",
       "CTYPE2  = 'HPLT-TAN'                                                            \n",
       "CTYPE3  = 'HPLN-TAN'                                                            \n",
       "CTYPE1A = 'AWAV-GRA'                                                            \n",
       "CTYPE2A = 'DEC--TAN'                                                            \n",
       "CTYPE3A = 'RA---TAN'                                                            \n",
       "PC1_1   =                  1.0                                                  \n",
       "PC1_2   =                  0.0                                                  \n",
       "PC1_3   =                  0.0                                                  \n",
       "PC2_1   =                  0.0                                                  \n",
       "PC2_2   =  -0.9515423178775066                                                  \n",
       "PC2_3   =  -0.3110199648297928                                                  \n",
       "PC3_1   =                  0.0                                                  \n",
       "PC3_2   =  -0.3092108197097941                                                  \n",
       "PC3_3   =   0.9520492066263982                                                  \n",
       "PC1_1A  =                  1.0                                                  \n",
       "PC1_2A  =                  0.0                                                  \n",
       "PC1_3A  =                  0.0                                                  \n",
       "PC2_1A  =                  0.0                                                  \n",
       "PC2_2A  =  -0.7242333575733201                                                  \n",
       "PC2_3A  =   -0.692104678718592                                                  \n",
       "PC3_1A  =                  0.0                                                  \n",
       "PC3_2A  =     0.69040256252335                                                  \n",
       "PC3_3A  =  -0.7240559590250139                                                  \n",
       "LONPOLE =                180.0 / [deg]                                          \n",
       "LONPOLEA=                180.0 / [deg]                                          \n",
       "TAZIMUTH=   205.98632018090603 / [deg] RawTelescopeAzimuthAngle                 \n",
       "ELEV_ANG=    68.06704959168634 / [deg] RawTelescopeElevationAngle               \n",
       "TELTRACK= 'Standard Differential Rotation Tracking' / TelescopeTrackingMode     \n",
       "TTBLANGL=  -19.277286829057687 / [deg] TelescopeCoudeTableAngle                 \n",
       "TTBLTRCK= 'Fixed coude table angle' / TelescopeCoudeTableTrackingMode           \n",
       "DATEREF = '2024-03-23T23:08:23.682'                                             \n",
       "OBSGEO-X=   -5466045.256954942 / [m]                                            \n",
       "OBSGEO-Y=   -2404388.737412784 / [m]                                            \n",
       "OBSGEO-Z=   2242133.8876900417 / [m]                                            \n",
       "SPECSYS = 'TOPOCENT'                                                            \n",
       "VELOSYS =                  0.0                                                  \n",
       "OBS_VR  =    557.2602464260601 / [m s-1]                                        \n",
       "WCSVALID=                    T / WCSValidityIndicator                           \n",
       "SOLARRAD=               962.23 / [arcsec]                                       \n",
       "                                                                                \n",
       "COMMENT ------------------------------ Datacenter ------------------------------\n",
       "COMMENT      Keys generated by the DKIST data center to describe processing     \n",
       "COMMENT                 performed, archiving or extra metadata.                 \n",
       "COMMENT ------------------------------------------------------------------------\n",
       "DSETID  = 'BZJOM   '                                                            \n",
       "POINT_ID= 'BZJOM   '                                                            \n",
       "FRAMEVOL=   13.192245483398438 / [Mbyte]                                        \n",
       "PROCTYPE= 'L1      '                                                            \n",
       "RRUNID  =                 1967                                                  \n",
       "RECIPEID=                    9                                                  \n",
       "RINSTID =                 1634                                                  \n",
       "EXTNAME = 'observation'                                                         \n",
       "SOLARNET=                    1                                                  \n",
       "OBS_HDU =                    1                                                  \n",
       "FILENAME= 'CRYO-NIRSP_SP_2024_03_23T23_08_23_682_01074700_I_BZJOM_L1.fits'      \n",
       "CADENCE =   0.9367717577856409 / [s]                                            \n",
       "CADMIN  =   0.9249999523162842 / [s]                                            \n",
       "CADMAX  =   1.8510000705718994 / [s]                                            \n",
       "CADVAR  = 0.010369532570659666 / [s]                                            \n",
       "LEVEL   =                    1                                                  \n",
       "HEADVERS= '4.6.0   '                                                            \n",
       "HEAD_URL= 'https://docs.dkist.nso.edu/projects/data-products/en/v4.6.0'         \n",
       "INFO_URL= 'https://docs.dkist.nso.edu'                                          \n",
       "CALVERS = '1.0.0   '                                                            \n",
       "CAL_URL = 'https://docs.dkist.nso.edu/projects/cryo-nirsp/en/v1.0.0/l0_to_l1_c&'\n",
       "CONTINUE  'ryonirsp_sp.html'                                                    \n",
       "IDSPARID=                 1688                                                  \n",
       "IDSOBSID=                 1308                                                  \n",
       "IDSCALID=                 1309                                                  \n",
       "WKFLNAME= 'l0_to_l1_cryonirsp_sp'                                               \n",
       "WKFLVERS= '1.0.0   '                                                            \n",
       "NSPECLNS=                    1                                                  \n",
       "SPECLN01= 'Fe XIII (1074.7 nm)'                                                 \n",
       "MANPROCD=                    F                                                  \n",
       "                                                                                \n",
       "COMMENT ------------------------------- Dataset --------------------------------\n",
       "COMMENT     Keys describing the dataset that this FITS file forms a part of.    \n",
       "COMMENT ------------------------------------------------------------------------\n",
       "DNAXIS  =                    5                                                  \n",
       "DNAXIS1 =                  902 / [pix]                                          \n",
       "DNAXIS2 =                 1917 / [pix]                                          \n",
       "DNAXIS3 =                   10 / [pix]                                          \n",
       "DNAXIS4 =                   51 / [pix]                                          \n",
       "DNAXIS5 =                    4 / [pix]                                          \n",
       "DTYPE1  = 'SPECTRAL'                                                            \n",
       "DTYPE2  = 'SPATIAL '                                                            \n",
       "DTYPE3  = 'TEMPORAL'                                                            \n",
       "DTYPE4  = 'SPATIAL '                                                            \n",
       "DTYPE5  = 'STOKES  '                                                            \n",
       "DPNAME1 = 'dispersion axis'                                                     \n",
       "DPNAME2 = 'spatial along slit'                                                  \n",
       "DPNAME3 = 'measurement number'                                                  \n",
       "DPNAME4 = 'scan step number'                                                    \n",
       "DPNAME5 = 'polarization state'                                                  \n",
       "DWNAME1 = 'wavelength'                                                          \n",
       "DWNAME2 = 'helioprojective latitude'                                            \n",
       "DWNAME3 = 'time    '                                                            \n",
       "DWNAME4 = 'helioprojective longitude'                                           \n",
       "DWNAME5 = 'polarization state'                                                  \n",
       "DUNIT1  = 'nm      '                                                            \n",
       "DUNIT2  = 'arcsec  '                                                            \n",
       "DUNIT3  = 's       '                                                            \n",
       "DUNIT4  = 'arcsec  '                                                            \n",
       "DUNIT5  = ''                                                                    \n",
       "DAAXES  =                    2                                                  \n",
       "DEAXES  =                    3                                                  \n",
       "DINDEX3 =                    1 / [pix]                                          \n",
       "DINDEX4 =                    1 / [pix]                                          \n",
       "DINDEX5 =                    1 / [pix]                                          \n",
       "LINEWAV =               1074.7                                                  \n",
       "WAVEBAND= 'Fe XIII (1074.7 nm)'                                                 \n",
       "WAVEUNIT=                   -9                                                  \n",
       "WAVEREF = 'Air     '                                                            \n",
       "WAVEMIN =         1074.2598172 / [nm]                                           \n",
       "WAVEMAX =   1078.2302660560001 / [nm]                                           \n",
       "                                                                                \n",
       "COMMENT ------------------------------ Statistics ------------------------------\n",
       "COMMENT   Statistical information about the data array contained in this FITS   \n",
       "COMMENT                                  file.                                  \n",
       "COMMENT ------------------------------------------------------------------------\n",
       "DATAMIN = -0.00011534187936596                                                  \n",
       "DATAMAX = 0.001724623732757602                                                  \n",
       "DATAMEAN= 0.000385017593391446                                                  \n",
       "DATAMEDN= 0.000425957813275577                                                  \n",
       "DATARMS = 0.000441680051832913                                                  \n",
       "DATAKURT=  -0.9981795728343452                                                  \n",
       "DATASKEW= -0.46693326282483366                                                  \n",
       "                                                                                \n",
       "COMMENT ------------------------------- DKIST ID -------------------------------\n",
       "COMMENT  Unique identifiers for this FITS file and the observation that created \n",
       "COMMENT                                the data.                                \n",
       "COMMENT ------------------------------------------------------------------------\n",
       "FILE_ID = '8534729427d14445a70cc4aea5b78672' / FileID                           \n",
       "DKISTVER= 'Data Model (SPEC-0122) Revision I' / DKISTFITSHeaderVersion          \n",
       "OBSPR_ID= 'eid_2_119_opr0oJqs_R001.150682.6087226' / ObservingProgramExecutionID\n",
       "EXPER_ID= 'eid_2_119'          / ExperimentID                                   \n",
       "PROP_ID = 'pid_2_119'          / ProposalID                                     \n",
       "DSP_ID  = 'eid_2_119_opr0oJqs_R001_ip6uQy5M_dspJ-kRZY' / DataSetParametersID    \n",
       "IP_ID   = 'id.150695.75091637' / InstrumentProgramExecutionID                   \n",
       "HLSVERS = 'Pono_6.1.5'         / DKISTSoftwareVersion                           \n",
       "NPROPOS =                    1                                                  \n",
       "PROPID01= 'pid_2_119'                                                           \n",
       "NEXPERS =                    1                                                  \n",
       "EXPRID01= 'eid_2_119'                                                           \n",
       "                                                                                \n",
       "COMMENT --------------------------- DKIST Operations ---------------------------\n",
       "COMMENT    Information about this configuration or operations of the facility   \n",
       "COMMENT                        when generating this data.                       \n",
       "COMMENT ------------------------------------------------------------------------\n",
       "OCS_CTRL= 'Auto    '           / OCSControl                                     \n",
       "FIDO_CFG= '1a: IN_C-BS950_C-W2_C-BS680_C-W1_C-W3' / FIDOConfiguration           \n",
       "DSHEALTH= 'GOOD    '           / DataSourceHealthStatus                         \n",
       "DSPSREPS=                    2 / DSPSNumberOfRepeats                            \n",
       "DSPSNUM =                    2 / DSPSRepeatNumber                               \n",
       "LIGHTLVL=   101.54331591383384 / [adu] LightLevel                               \n",
       "                                                                                \n",
       "COMMENT -------------------------------- Camera --------------------------------\n",
       "COMMENT        Keys describing modes and operation of the camera(s) used.       \n",
       "COMMENT ------------------------------------------------------------------------\n",
       "CAM_ID  = '11:OrangeTree_ZestSC3_10740:H2RG-G18676-IR50-GLS' / CameraUniqueID   \n",
       "CAMERA  = 'CryoNIRSP.01'       / CameraName                                     \n",
       "BITDEPTH=                   16 / SensBitsPerPixel                               \n",
       "XPOSURE =                725.0 / [ms] FPAExposureTime                           \n",
       "TEXPOSUR=               90.625 / [ms] CamExposureTime                           \n",
       "CAM_FPS =   1.0805810232294015 / [Hz] CamFrameRate                              \n",
       "CHIPDIM1=                 2048 / [pix] ChipDimensionX                           \n",
       "CHIPDIM2=                 2048 / [pix] ChipDimensionY                           \n",
       "HWBIN1  =                    1 / [pix] HardwareBinningX                         \n",
       "HWBIN2  =                    1 / [pix] HardwareBinningY                         \n",
       "SWBIN1  =                    1 / [pix] SoftwareBinningX                         \n",
       "SWBIN2  =                    1 / [pix] SoftwareBinningY                         \n",
       "NSUMEXP =                    1 / NumRawFramesinFPA                              \n",
       "SWNROI  =                    1 / NumOfSWROI                                     \n",
       "SWROI1OX=                    0 / [pix] SWROI1OriginX                            \n",
       "SWROI1OY=                    0 / [pix] SWROI1OriginY                            \n",
       "SWROI1SX=                 2048 / [pix] SWROI1SizeX                              \n",
       "SWROI1SY=                 2048 / [pix] SWROI1SizeY                              \n",
       "HWNROI  =                    1 / NumOfHWROI                                     \n",
       "HWROI1OX=                    0 / [pix] HWROI1OriginX                            \n",
       "HWROI1OY=                    0 / [pix] HWROI1OriginY                            \n",
       "HWROI1SX=                 2048 / [pix] HWROI1SizeX                              \n",
       "HWROI1SY=                 2048 / [pix] HWROI1SizeY                              \n",
       "NBIN1   =                    1                                                  \n",
       "NBIN2   =                    1                                                  \n",
       "NBIN3   =                    1                                                  \n",
       "NBIN    =                    1                                                  \n",
       "FPABITPX=                   16 / FPABitsPerPixel                                \n",
       "                                                                                \n",
       "COMMENT ---------------- Polarization Analysis and Calibration -----------------\n",
       "COMMENT  Keys describing the configuration of the Gregorian Optical System (GOS)\n",
       "COMMENT                                                                         \n",
       "COMMENT ------------------------------------------------------------------------\n",
       "GOS_STAT= 'open    '           / Upper GOS shutter                              \n",
       "LVL3STAT= 'clear   '           / Level 3 (Lamp)                                 \n",
       "LAMPSTAT= 'none    '           / Lamp status                                    \n",
       "LVL2STAT= 'clear   '           / Level 2 (Polarizer)                            \n",
       "POLANGLE= 'none    '           / [deg] Polarizer Angle                          \n",
       "LVL1STAT= 'clear   '           / Level 1 (Retarder)                             \n",
       "RETANGLE= 'none    '           / [deg] Retarder angle                           \n",
       "LVL0STAT= 'Occulter (5arcmin)' / Level 0 (Apeture)                              \n",
       "APERTURE= 'tracking'           / [arcmin, arcsec, mm] Aperture Property         \n",
       "LGOSSTAT= 'open    '           / Lower GOS shutter                              \n",
       "GOS_TEMP=   13.894042968750007 / [C] Upper GOS optics temperature               \n",
       "POL_NOIS=                  0.0                                                  \n",
       "POL_SENS=   24.079796974527227 / [adu]                                          \n",
       "STOKES  = 'I       '                                                            \n",
       "                                                                                \n",
       "COMMENT --------------------------- Adaptive Optics ----------------------------\n",
       "COMMENT          Keys describing aspects of the adaptive optics system.         \n",
       "COMMENT ------------------------------------------------------------------------\n",
       "ATMOS_R0=   0.0731448463295594 / [m] HOAOFriedParameter                         \n",
       "AO_LOCK =                    F / HOAOLockStatus                                 \n",
       "AO_LOCKX=                  0.0 / [arcsec] HOAOLockOffPointingX                  \n",
       "AO_LOCKY=                  0.0 / [arcsec] HOAOLockOffPointingY                  \n",
       "WFSLOCKX=                  0.0 / [arcsec] LOWFSLockOffPointingX                 \n",
       "WFSLOCKY=                  0.0 / [arcsec] LOWFSLockOffPointingY                 \n",
       "LIMBRPOS=                  0.0 / [arcsec] LimbSensorRadialSetPos                \n",
       "LIMBRATE=               1000.0 / [Hz] LimbSensorRate                            \n",
       "OOBSHIFT=                  801 / NumberOfOOBSubApertures                        \n",
       "                                                                                \n",
       "COMMENT --------------------------- Weather Station ----------------------------\n",
       "COMMENT    Keys describing information reported by the weather station at the   \n",
       "COMMENT                    facility during this observation.                    \n",
       "COMMENT ------------------------------------------------------------------------\n",
       "WSSOURCE= 'dkist   '           / WeathSource                                    \n",
       "WIND_SPD=    6.315469124022127 / [m s-1] WeathWindSpeed                         \n",
       "WIND_DIR=    168.4215746324958 / [deg] WeathWindDirection                       \n",
       "WS_TEMP =   10.117211288247239 / [C] WeathOutsideTemperature                    \n",
       "WS_HUMID=    7.907474514142741 / [10**-2] WeathRelativeHumidity                 \n",
       "WS_DEWPT=  -27.995311809567614 / [C] WeathDewPoint                              \n",
       "WS_PRESS=    711.4612975969324 / [hPa] WeathBarometricPressure                  \n",
       "SKYBRIGT=                 -1.0 / WeathSkyBrightness                             \n",
       "                                                                                \n",
       "COMMENT ------------------------ Cryo-NIRSP Instrument -------------------------\n",
       "COMMENT       Keys specific to the operation of the Cryo-NIRSP instrument.      \n",
       "COMMENT ------------------------------------------------------------------------\n",
       "CNARMID = 'SP      '           / ArmID                                          \n",
       "CNTASK  = 'CustomObs'          / SubtaskName                                    \n",
       "CNOPMODE= 'CI_SP_SIMULTANEOUS' / OperationMode                                  \n",
       "CNPRISCN= 'FOV     '           / PrimaryScan                                    \n",
       "CNSECSCN= 'None    '           / SecondaryScan                                  \n",
       "CNNUMSCN=                   51 / NumScanPos                                     \n",
       "CNCURSCN=                    1 / CurrentScanPos                                 \n",
       "CNPSCPAT= 'RASTER  '           / PrimaryScanPattern                             \n",
       "CNPSCFOV= 'Restricted'         / PrimaryScanFOV                                 \n",
       "CNPUNIT = 'arcsec  '           / PrimaryScanUnit                                \n",
       "CNPSIZEX=                200.0 / PriScanRegionSizeX                             \n",
       "CNPSIZEY=                300.0 / PriScanRegionSizeY                             \n",
       "CNPPOSX =                 17.5 / PriScanCenterPosX                              \n",
       "CNPPOSY =                  0.0 / PriScanCenterPosY                              \n",
       "CNP1DIR = 'Horizontal'         / PriScan1stDir                                  \n",
       "CNP1DWAY= 'LtoR    '           / PriScan1stDirWay                               \n",
       "CNP1DSRT=               -85.25 / PriScan1stDirStartPos                          \n",
       "CNP1DSS =                  4.0 / PriScan1stDirStepSize                          \n",
       "CNP1DNSP=                   51 / PriScan1stDirNumScanPos                        \n",
       "CNP1DCUR=                  1.0 / PriScan1stDirCurrentPos                        \n",
       "CNP2DIR = 'n/a     '           / PriScan2ndDir                                  \n",
       "CNP2DWAY= 'n/a     '           / PriScan2ndDirWay                               \n",
       "CNP2DSRT=                  8.0 / PriScan2ndDirStartPos                          \n",
       "CNP2DSS =                  0.0 / PriScan2ndDirStepSize                          \n",
       "CNP2DNSP=                    1 / PriScan2ndDirNumScanPos                        \n",
       "CNP2DCUR=                  1.0 / PriScan2ndDirCurrentPos                        \n",
       "CNSSCPAT= 'n/a     '           / SecondaryScanPattern                           \n",
       "CNSUNIT = 'n/a     '           / SecondaryScanUnit                              \n",
       "CNSSIZEX=                  0.0 / SecScanRegionSizeX                             \n",
       "CNSPOSX =                  0.0 / SecScanCenterPosX                              \n",
       "CNS1DSRT=                  0.0 / SecScan1stDirStartPos                          \n",
       "CNS1DSS =                  0.0 / SecScan1stDirStepSize                          \n",
       "CNS1DNSP=                    0 / SecScan1stDirNumScanPos                        \n",
       "CNS1DCUR=                  0.0 / SecScan1stDirCurrentPos                        \n",
       "CNM1POS =               -85.25 / [arcsec] FM1Pos                                \n",
       "CNM1BPOS=                  8.0 / [arcsec] FM1bPos                               \n",
       "CNM2POS =  -1.6379825000000001 / [mm] FM2Pos                                    \n",
       "CNMODID = '0002    '           / ModulatorID                                    \n",
       "CNMODPOS=             -4.00125 / [mm] ModulatorAssemblyPos                      \n",
       "CNNANPOS= 'In      '           / ModulatorAssemblyNamedPos                      \n",
       "CNMODNST=                    8 / ModulatorNumStates                             \n",
       "CNMODRT =   1.0805810232294015 / [Hz] ModulatorRate                             \n",
       "CNSPINMD= 'Stepped '           / ModulatorSpinMode                              \n",
       "CNFILTPS=          30098.67751 / [10**6 u] FRFilterPos                          \n",
       "CNFILTNP= 'Open    '           / FRFilterNamedPos                               \n",
       "CNPOFFPS=  -175.78387500000002 / [mm] CM1PickoffMirrorPos                       \n",
       "CNPOFFNP= 'Pellicle'           / CM1PickoffMirrorNamedPos                       \n",
       "CNLAMP  =           -229.96779 / [mm] CalibLampPos                              \n",
       "CNLAMPN = 'Open    '           / CalibLampNamedPos                              \n",
       "CNCENWAV=               1078.8 / [nm] FilterCenterWavelength                    \n",
       "CNFWHM  =                 20.0 / [nm] FilterFWHM                                \n",
       "CNEXPOS =                725.0 / [ms] ReqExposureTime                           \n",
       "CNCAMDT =              0.22294 / [ms] CameraDT                                  \n",
       "CNNMEAS =                   10 / CameraNumMeasAtSamePos                         \n",
       "CNCMEAS =                    1 / CameraCurrentMeas                              \n",
       "CNNCOADD=                    1 / CameraNumCoadds                                \n",
       "CNCAMMD = 'FastUpTheRamp'      / CameraReadoutMode                              \n",
       "CNNSCI  =                    8 / CameraNumScienceFrames                         \n",
       "CNNNDR  =                   10 / CameraNumNDRs                                  \n",
       "CNNRAMP =                 4080 / CameraTotalNumRamps                            \n",
       "CNNACCUM=                    1 / CameraNumAccum                                 \n",
       "CNCACCUM=                    1 / CameraCurrentAccum                             \n",
       "CNSM5POS=               -9.909 / [mm] SM5SPFocusMirrorPos                       \n",
       "CNSPPOS =   224.97749999999996 / [10**6 u] SPFilterPos                          \n",
       "CNSPNPOS= '10788-138-B3'       / SPFilterNamedPos                               \n",
       "CNCMPOS =        -0.1100244499 / [deg] SAMColdMaskPos                           \n",
       "CNCMNPOS= 'Off     '           / SAMColdMaskNamedPos                            \n",
       "CNGRTGID=                    1 / GratingID                                      \n",
       "CNGRTPOS=    62.50577982328832 / [deg] GratingPos                               \n",
       "CNGRTDIS=          0.000244546 / [nm um-1] GratingDispersion                    \n",
       "CNGRTORD=                 52.0 / GratingOrder                                   \n",
       "CNGRTCON=                 31.6 / [mm-1] GratingConstant                         \n",
       "CNGRTGBA=                 63.9 / [deg] GratingBlazeAng                          \n",
       "CNGRTLAT=                 -5.5 / [deg] GratingLittrowAngTheta                   \n",
       "CNSLITPS=             314.9325 / [10**6 u] SlitAssemblyPos                      \n",
       "CNSLITNP= '175s    '           / SlitAssemblyNamedPos                           \n",
       "CNSLITW =                  175 / [um] SlitPhysicalWidth                         \n",
       "CNSLITH =                   81 / [mm] SlitPhysicalHeight                        \n",
       "CNSLTSEP=                  0.0 / [mm] SlitPhysicalSeparation                    \n",
       "CNPROJW =                 0.15 / [arcsec] SlitProjectedWidth                    \n",
       "CNPROJH =                  233 / [arcsec] SlitProjectedHeight                   \n",
       "CNARRTEM=              55.0021 / [K] SPArrayTemp                                \n",
       "CNCLTEM =              41.5384 / [K] SPArrayColdLinkTemp                        \n",
       "CNOBTEM =              62.5105 / [K] SPOpticalBenchTemp                         \n",
       "CNLPRESS=            8.269E-09 / [10**2 Pa] SPLowPressureGauge                  \n",
       "CNHPRESS=            0.0002608 / [10**2 Pa] SPHighPressureGauge                 \n",
       "CNCI1POS=                79.84 / [10**6 u] CIFilterAssembly1Pos                 \n",
       "CNCI1NP = 'WG1ND   '           / CIFilterAssembly1NamedPos                      \n",
       "CNCI2POS=   119.99007811999999 / [10**6 u] CIFilterAssembly2Pos                 \n",
       "CNCI2NP = 'HeI     '           / CIFilterAssembly2NamedPos                      \n",
       "CNCARTEM=              55.0055 / [K] CIArrayTemp                                \n",
       "CNCCLTEM=              45.3335 / [K] CIArrayColdLinkTemp                        \n",
       "CNCOBTEM=              54.9973 / [K] CIOpticalBenchTemp                         \n",
       "CNCLPRES=            4.088E-06 / [10**2 Pa] CILowPressureGauge                  \n",
       "CNCHPRES=            0.0004165 / [10**2 Pa] CIHighPressureGauge                 \n",
       "CNSUBREP=                    1 / CameraSubRepeatAtSamePos                       \n",
       "CNCSREP =                    1 / CameraCurrentSubRepeat                         \n",
       "CNM1OFF =                -2.75 / [arcsec] align1OffsetFM1                       \n",
       "CNM1BOFF=                  8.0 / [arcsec] align1OffsetFM1b                      \n",
       "CNM1SCL =                  1.0 / align1ScaleFM1                                 \n",
       "CNM1BSCL=                  1.0 / align1ScaleFM1b                                \n",
       "CNM1ANG =                  0.0 / [deg] align1AngleFM1                           \n",
       "CNM1BANG=                  0.0 / [deg] align1AngleFM1b                          \n",
       "CNL1CURN=                    1 / CycleL1CurrentNumber                           \n",
       "CNL1TOTN=                    1 / CycleL1TotalNumber                             \n",
       "CNL2CURN=                    1 / CycleL2CurrentNumber                           \n",
       "CNL2TOTN=                    1 / CycleL2TotalNumber                             \n",
       "CNL3CURN=                    0 / CycleL3CurrentNumber                           \n",
       "CNL3TOTN=                    0 / CycleL3TotalNumber                             \n",
       "CNNMAPS =                    1 / TotalMapScans                                  \n",
       "CNMAP   =                    1 / CurrentMapScan                                 \n",
       "SLITORI =  -198.00195951870631 / [deg]                                          \n",
       "PV1_0   =                 31.6 / [m-1]                                          \n",
       "PV1_1   =                   51                                                  \n",
       "PV1_2   =   52.005747102194086 / [deg]                                          \n",
       "PV1_0A  =                 31.6 / [m-1]                                          \n",
       "PV1_1A  =                   51                                                  \n",
       "PV1_2A  =   52.005747102194086 / [deg]                                          "
      ]
     },
     "execution_count": 11,
     "metadata": {},
     "output_type": "execute_result"
    }
   ],
   "source": [
    "hdrs[0]"
   ]
  },
  {
   "cell_type": "code",
   "execution_count": null,
   "id": "1b5f0135-d429-4738-b6ca-26af396ad746",
   "metadata": {},
   "outputs": [],
   "source": [
    "## view a few header keywords as you like to  \n",
    "## FITS specification with more information is here:  \n",
    "## https://docs.dkist.nso.edu/projects/data-products/en/stable/specs/spec-214.html\n",
    "\n",
    "keys2plot = 'CNCURSCN','CNCMEAS','ELEV_ANG','TAZIMUTH','CNP1DCUR','CNP2DCUR',\n",
    "fig,ax = plt.subplots(len(keys2plot)//2,2,figsize = (9,6),sharex=True)\n",
    "ax = ax.flatten()\n",
    "for n,k in enumerate(keys2plot): \n",
    "    ax[n].plot(hdr_dict['datetimes'],hdr_dict[k],'x-',label = hdrs[0].comments[k],markersize = 3)\n",
    "for axi in ax: \n",
    "    axi.legend(fontsize = 9)\n",
    "    axi.grid(lw = 0.4)\n",
    "fig.supxlabel(\"Time [UTC]\")\n",
    "fig.suptitle('Select Header Information as Function of Time\\n' + \n",
    "             f\"Dataset ID: {hdr_dict['DSETID'][0]}   |    Observing Program ID: {hdr_dict['OBSPR_ID'][0]}\\n\" +\n",
    "             f\"Daterange: {hdr_dict['DATE-BEG'][0]} to {hdr_dict['DATE-END'][-1]}\")\n",
    "ax[4].tick_params(axis='x', labelrotation=20)\n",
    "ax[5].tick_params(axis='x', labelrotation=20)\n",
    "fig.tight_layout()"
   ]
  },
  {
   "cell_type": "markdown",
   "id": "412cb6d7-39bf-48aa-ba6e-2283bc96eeb9",
   "metadata": {},
   "source": [
    "## Exposure time information\n",
    "\n",
    "* At this time, the exposure time that goes into a single Stokes measurement is encoded within multiple metadata entries.  In the future, a cummulative exposure time value may be added.\n",
    "* The values for this dataset (see below), indicate that individual H2RG detector ramps (i.e. a single exposure to a single modulation state) had a total exposure time of 725 msec.  This ramp consisted of 10 Non-destructive Readouts (NDRs), of which 8 are \"Science Frames\" (In fast readout, the first two frames correspond to a pixel reset and bias frames).  The individual NDRs have an exposure time of 90.625 msec (90.625 x 8 = 725 msec). \n",
    "* The number of modulation states is equal to 8.  So one measured Stokes vector results from 8*725 = 5800 msec of exposure, i.e. 5.8 seconds. \n",
    "* At each step position, there are 10 repeats, and so the total integration time at one step position (including all repeats) is 58 seconds.\n",
    "* The entire map has 51 steps, so 51 * 58 sec ==> 49.3 minutes of total integration time over the dataset (which took ~64 minutes to complete with overheads) "
   ]
  },
  {
   "cell_type": "code",
   "execution_count": null,
   "id": "d343fa7b-e45a-46fe-8b6f-4909a441b502",
   "metadata": {},
   "outputs": [],
   "source": [
    "exposureKeys = ['XPOSURE','TEXPOSUR','CAM_FPS','CNNSCI','CNNNDR','CNMODNST','CNNMEAS']\n",
    "for key in exposureKeys: \n",
    "    print(f\"{key.ljust(10)}  {hdrs[0].comments[key].ljust(25)}   {hdrs[0][key]}    \")\n",
    "print(f\"Time between ramps (i.e. triggers): {1./hdrs[0]['CAM_FPS']*1000.} msec\")\n",
    "print(f\"Times between first and last trigger: {hdr_dict['datetimes'][-1] -hdr_dict['datetimes'][0]}\")"
   ]
  },
  {
   "cell_type": "markdown",
   "id": "6c0a8207-7e9b-4ad7-a418-bc67b8ad86a9",
   "metadata": {},
   "source": [
    "## Determine data cube size "
   ]
  },
  {
   "cell_type": "code",
   "execution_count": null,
   "id": "51d743a8-9065-44a6-9c6d-bf329abb04ef",
   "metadata": {},
   "outputs": [],
   "source": [
    "## Show information on 1st and 2nd direction scanning (step size and number) \n",
    "for k in 'CNP1DSS','CNP1DNSP','CNP2DSS','CNP2DNSP',:\n",
    "    print(hdrs[0][k+'*'])\n",
    "\n",
    "if os.path.exists(L1_filenames[0].replace('_I_','_V_')): \n",
    "    n_stokes = 4\n",
    "else: \n",
    "    n_stokes = 1\n",
    "\n",
    "n_scanSteps  = np.max(np.array([hdr['CNCURSCN'] for hdr in hdrs]))\n",
    "n_measAtStep = np.max(np.array([hdr['CNCMEAS'] for hdr in hdrs]))\n",
    "n_wv         = hdrs[0]['NAXIS1']\n",
    "n_alongSlit  = hdrs[0]['NAXIS2']\n",
    "data_shape   = (n_stokes,n_scanSteps,n_measAtStep,n_alongSlit,n_wv)\n",
    "print(\"Data Shape: \",data_shape,' (n_stokes,n_scanSteps,n_measAtStep,n_alongSlit,n_wv)')  ## Note that this matches the asdf data shape above. "
   ]
  },
  {
   "cell_type": "markdown",
   "id": "862677ba-3d76-4191-a030-7e74c7fce599",
   "metadata": {},
   "source": [
    "## Get spectral and spatial coordinates\n",
    "\n",
    "* As of the first data release, the CryoNIRSP spectral and spatial world coordinates in the Level 1 data include corrections applied at the time of calibration.  Both can still have errors and should be verified manually as necessary and possible.\n",
    "* The spectral coordinates are determined using an atlas model fit to the flat field spectra acquired at disk center, and does account for Sun-Earth orbital motions.  However, in some cases, the spectra may be shifted in the science data compared to the flat field data, which leads to issues in the metadata.  This occurs in particular when there are spectrograph configuration changes between the flat field and the science data.  \n",
    "* The spatial coordinates may have inaccuracies of up to ~15 to 20 arcseconds, and there is some non-uniformity in the step width of the image scanning mirror.  These can be as large as an arcsecond. "
   ]
  },
  {
   "cell_type": "code",
   "execution_count": null,
   "id": "7817e92f-d378-4c89-a325-0bad1e101a60",
   "metadata": {
    "editable": true,
    "papermill": {
     "duration": null,
     "end_time": null,
     "exception": null,
     "start_time": null,
     "status": "completed"
    },
    "slideshow": {
     "slide_type": ""
    },
    "tags": []
   },
   "outputs": [],
   "source": [
    "########### GET SPECTRAL DISPERSION AXIS \n",
    "## Use the WCS tools for this as the dispersion axis in not strictly linear\n",
    "## the spectral dispersion axis type (CTYPE1) is 'AWAV-GRA' refers to a grating func for air wavelengths                                                          \n",
    "with warnings.catch_warnings():\n",
    "    warnings.simplefilter(\"ignore\")  ## TO ELIMINATE datafix warnings \n",
    "    wcs = WCS(hdrs[0])\n",
    "    nwv = hdrs[0]['NAXIS1']\n",
    "    specCoords = wcs.array_index_to_world(0,0,np.arange(nwv))[0].to(u.nm).value"
   ]
  },
  {
   "cell_type": "code",
   "execution_count": null,
   "id": "5c1b74b7-1e49-43d0-9117-8a12e2d13593",
   "metadata": {
    "papermill": {
     "duration": null,
     "end_time": null,
     "exception": null,
     "start_time": null,
     "status": "completed"
    },
    "tags": []
   },
   "outputs": [],
   "source": [
    "######### GET ALL SPATIAL COORDINATES \n",
    "## Here multiprocessing is used.  There may be other ways to accelerate \n",
    "def work(argin):    \n",
    "    \"\"\" function defining what work is carried out by the parallel process \"\"\" \n",
    "    n = argin   ## the filter index number n\n",
    "    with warnings.catch_warnings():\n",
    "        warnings.simplefilter(\"ignore\")  ## TO ELIMINATE datafix warnings \n",
    "        wcs = WCS(hdrs[n])\n",
    "        xy = wcs.array_index_to_world(0,np.arange(n_alongSlit),0)[1]\n",
    "        x,y,obstime = xy.Tx.value,xy.Ty.value,xy[0].obstime\n",
    "    ## return current scan step number, current measurement number, \n",
    "    ## Tx and Ty helioprojective coordinates, and the observation time. \n",
    "    return hdrs[n]['CNCURSCN'],hdrs[n]['CNCMEAS'],x,y, obstime.to_datetime()  \n",
    "\n",
    "ncpus = min(multiprocessing.cpu_count() , 40)\n",
    "p     = multiprocessing.Pool(processes=ncpus,maxtasksperchild = 1000)\n",
    "arg_array = list(range(len(hdrs)))\n",
    "rs    = p.imap(work,arg_array)\n",
    "p.close()\n",
    "\n",
    "hpxyCoords = np.zeros((2,n_scanSteps,n_measAtStep,n_alongSlit))\n",
    "timeCoords = np.zeros((n_scanSteps,n_measAtStep),dtype ='datetime64[ms]')\n",
    "pbar = tqdm(total=len(arg_array),position = 0, leave = True)\n",
    "for i,res in enumerate(rs):\n",
    "    CNCURSCN,CNCMEAS,x,y,obstime = res \n",
    "    hpxyCoords[0,CNCURSCN-1,CNCMEAS-1,:] =  x\n",
    "    hpxyCoords[1,CNCURSCN-1,CNCMEAS-1,:] =  y\n",
    "    timeCoords[CNCURSCN-1,CNCMEAS-1] = obstime\n",
    "    pbar.update()\n",
    "pbar.close()"
   ]
  },
  {
   "cell_type": "code",
   "execution_count": null,
   "id": "9843ef93-71ee-49ce-9cf2-7ae91bb4d0f1",
   "metadata": {
    "papermill": {
     "duration": null,
     "end_time": null,
     "exception": null,
     "start_time": null,
     "status": "completed"
    },
    "tags": []
   },
   "outputs": [],
   "source": [
    "print(f\"Data Cube Shape: {data_shape}\")\n",
    "print(f\"Spectral Coordinates Shape: {specCoords.shape}\")\n",
    "print(f\"Helioprojective XY Coordinates Shape: {hpxyCoords.shape}\")\n",
    "print(f\"Datetime Coordinates Shape: {timeCoords.shape}\")"
   ]
  },
  {
   "cell_type": "code",
   "execution_count": null,
   "id": "60829dba-8eea-49eb-92e6-21848a6e6c5f",
   "metadata": {
    "papermill": {
     "duration": null,
     "end_time": null,
     "exception": null,
     "start_time": null,
     "status": "completed"
    },
    "tags": []
   },
   "outputs": [],
   "source": [
    "## Save the dataset coordinates to the location of your choice (defaults to working directory)\n",
    "output_directory = './'\n",
    "np.save(output_directory + 'specCoords.npy',specCoords)\n",
    "np.save(output_directory + 'hpxyCoords.npy',hpxyCoords)\n",
    "np.save(output_directory + 'timeCoords.npy',timeCoords)"
   ]
  },
  {
   "cell_type": "code",
   "execution_count": null,
   "id": "d4a39ca9-34cd-44bd-89f3-ecda3f7ed57f",
   "metadata": {},
   "outputs": [],
   "source": [
    "## Determine the raster slit step size and sampling along the slit \n",
    "## Note that these values include any PC_ij matrix transforms of the WCS information\n",
    "## Also, the step size is slightly lower on average that that given in the CNP1DSS keyword\n",
    "if n_scanSteps<=1: \n",
    "    stepWidth = 0.\n",
    "    slitSamp  = np.sqrt((hpxyCoords[0,0,0,1]-hpxyCoords[0,0,0,0])**2 + (hpxyCoords[1,0,0,1]-hpxyCoords[1,0,0,0])**2 )\n",
    "else: \n",
    "    stepWidth = np.sqrt((hpxyCoords[0,1,0,0]-hpxyCoords[0,0,0,0])**2 + (hpxyCoords[1,1,0,0]-hpxyCoords[1,0,0,0])**2 )\n",
    "    slitSamp  = np.sqrt((hpxyCoords[0,0,0,1]-hpxyCoords[0,0,0,0])**2 + (hpxyCoords[1,0,0,1]-hpxyCoords[1,0,0,0])**2 )\n",
    "\n",
    "print(f'Raster step size in arcsec: {stepWidth}')\n",
    "print(f'Sampling along the slit (arcsec per pixel): {slitSamp}')"
   ]
  },
  {
   "cell_type": "markdown",
   "id": "e9ff710e-2c84-4c49-8d9e-895c7140d00f",
   "metadata": {},
   "source": [
    "## Overplot the spatial bounds on SDO/AIA Images\n",
    "\n",
    "* Here, we download JPEG2000 compressed SDO/AIA images to provide full disk context for the CryoNIRSP raster data.\n",
    "* The CryoNIRSP field of view spatial bounds and the orientation of the slit at the center of the scan are shown overplotted. "
   ]
  },
  {
   "cell_type": "code",
   "execution_count": null,
   "id": "df6fa72c-6391-4bf8-a1b3-c9295b019f94",
   "metadata": {
    "papermill": {
     "duration": null,
     "end_time": null,
     "exception": null,
     "start_time": null,
     "status": "completed"
    },
    "tags": []
   },
   "outputs": [],
   "source": [
    "## This is a spatial bounding box for the entire CryoNIRSP dataset. \n",
    "print(f\"Helioprojective XY Coordinates Shape: {hpxyCoords.shape}\")\n",
    "spatialBounds = hpxyCoords[:,[0,0,-1,-1,0] ,  0,  [0,-1,-1,0,0]]  ## grabs the corner coordinates of the scan\n",
    "print(spatialBounds)"
   ]
  },
  {
   "cell_type": "code",
   "execution_count": null,
   "id": "e0a9ca59-4841-4a45-9d84-459dc01e3f7c",
   "metadata": {
    "papermill": {
     "duration": null,
     "end_time": null,
     "exception": null,
     "start_time": null,
     "status": "completed"
    },
    "tags": []
   },
   "outputs": [],
   "source": [
    "## Get a full disk AIA 193 images from helioviewer API \n",
    "\n",
    "for source in hvpy.DataSource.AIA_193,hvpy.DataSource.AIA_304,: \n",
    "    \n",
    "    filepath = hvpy.save_file(hvpy.getJP2Image(date=Time(hdrs[0]['DATE-AVG']).to_datetime(), \n",
    "                                               sourceId=source), filename=\"~/example.jpeg\",overwrite=True)  \n",
    "    mm = sunpy.map.Map(filepath)  ## assumed to be rotated and centered with Solar North up. \n",
    "    ny, nx = mm.data.shape\n",
    "    extaia = (mm.pixel_to_world(0*u.pix,0*u.pix).Tx.value,  mm.pixel_to_world(nx*u.pix,0*u.pix).Tx.value,\n",
    "              mm.pixel_to_world(0*u.pix,0*u.pix).Ty.value,  mm.pixel_to_world(0*u.pix,ny*u.pix).Ty.value)\n",
    "    \n",
    "    fig,ax = plt.subplots(1,2,figsize = (8,4))\n",
    "    ax = ax.flatten()\n",
    "    for axi in ax: \n",
    "\n",
    "        ## show AIA data\n",
    "        imn = axi.imshow(mm.data,extent = extaia,cmap = 'sdoaia'+ str(mm.meta['wavelnth']),norm = PowerNorm(0.65))\n",
    "        imn.set_clim(np.nanpercentile(mm.data,[5,99.5]))\n",
    "\n",
    "        ## CryoNIRSP dataset spatial bounds \n",
    "        axi.plot(spatialBounds[0],spatialBounds[1],lw = 2,color = 'white',ls = 'solid')\n",
    "        axi.plot(spatialBounds[0],spatialBounds[1],lw = 1,color = 'black',ls = 'dashdot',label = \"CryoNIRSP Scanned FOV\")\n",
    "        axi.plot(hpxyCoords[0,n_scanSteps//2,0,:],hpxyCoords[1,n_scanSteps//2,0,:],\n",
    "                 lw = 1,color = 'black',ls = 'solid',label = \"CryoNIRSP Center Slit\")\n",
    "\n",
    "        ## overplot solar limb \n",
    "        rsun = hdrs[0]['SOLARRAD']\n",
    "        tx = np.linspace(0,2.*np.pi,500)\n",
    "        axi.plot(rsun*np.cos(tx),rsun*np.sin(tx),lw = 0.8,ls = 'dashed',color = 'white')\n",
    "        \n",
    "        axi.set_facecolor('black')\n",
    "        axi.legend()\n",
    "\n",
    "    ## CREATE A ZOOMED IN PANEL \n",
    "    xw = spatialBounds[0].max() - spatialBounds[0].min()\n",
    "    yw = spatialBounds[1].max() - spatialBounds[1].min()\n",
    "    ww = np.max((xw,yw))\n",
    "    ax[1].set_xlim(spatialBounds[0].min()-50,spatialBounds[0].min() + ww + 50)\n",
    "    ax[1].set_ylim(spatialBounds[1].min()-50,spatialBounds[1].min() + ww + 50)\n",
    "    fig.suptitle(f\"CryoNIRSP SP Field of View Over SDO/AIA {mm.meta['wavelnth']} $\\\\AA$ {mm.meta['date-obs']}\\n{dataset_directory} | Experiment ID: {hdrs[0]['EXPER_ID']}\")\n",
    "    fig.tight_layout()"
   ]
  },
  {
   "cell_type": "markdown",
   "id": "329cfd71-75ce-471b-bbae-88dcd5fc0ea3",
   "metadata": {
    "editable": true,
    "papermill": {
     "duration": null,
     "end_time": null,
     "exception": null,
     "start_time": null,
     "status": "completed"
    },
    "slideshow": {
     "slide_type": ""
    },
    "tags": []
   },
   "source": [
    "# Load data according to use"
   ]
  },
  {
   "cell_type": "markdown",
   "id": "3d0a01be-2c97-4585-bdf2-becfa6631431",
   "metadata": {},
   "source": [
    "##  Coadding all repeated measurements \n",
    "\n",
    "* We elect here to coadd all repeated measurements to save on the total memory of the dataset\n",
    "* This also should improve SNR (depending on the number of repeated measurements)\n",
    "* This is a choice, and we could also use the repeats to look for temporal variability "
   ]
  },
  {
   "cell_type": "code",
   "execution_count": null,
   "id": "48e45b70-8976-4d3a-b617-e4fa138a4ad2",
   "metadata": {
    "papermill": {
     "duration": null,
     "end_time": null,
     "exception": null,
     "start_time": null,
     "status": "completed"
    },
    "tags": []
   },
   "outputs": [],
   "source": [
    "dataset_shape   = (n_stokes,n_scanSteps,n_measAtStep,n_alongSlit,n_wv)\n",
    "print(\"Data Set Shape: \",dataset_shape)"
   ]
  },
  {
   "cell_type": "code",
   "execution_count": null,
   "id": "37572eff-a7ae-4819-b620-1b3001ba3ef8",
   "metadata": {
    "papermill": {
     "duration": null,
     "end_time": null,
     "exception": null,
     "start_time": null,
     "status": "completed"
    },
    "tags": []
   },
   "outputs": [],
   "source": [
    "## data buffer setting number of measurements to 1 as we will coadd all repeats \n",
    "if n_scanSteps>1: \n",
    "    data        = np.zeros((n_stokes,n_scanSteps,1,n_alongSlit,n_wv),dtype = float)\n",
    "    coadd_index = np.zeros(n_scanSteps)\n",
    "else: \n",
    "    data        = np.zeros((n_stokes,1,n_measAtStep,n_alongSlit,n_wv),dtype = float)\n",
    "    coadd_index = np.zeros(n_measAtStep)\n",
    "print(\"Defined data set shape to load: \",data.shape)"
   ]
  },
  {
   "cell_type": "code",
   "execution_count": null,
   "id": "6fc3975c-1554-412d-be12-1eac9430226e",
   "metadata": {
    "papermill": {
     "duration": null,
     "end_time": null,
     "exception": null,
     "start_time": null,
     "status": "completed"
    },
    "tags": []
   },
   "outputs": [],
   "source": [
    "## Reading data in and coadding the multple repeat\n",
    "## This step uses multiprocessing \n",
    "def work(argin): \n",
    "    ''' work function for the parallel process'''\n",
    "    n = argin  ## scan step index \n",
    "    \n",
    "    img = []\n",
    "    ## get Stokes I image\n",
    "    img.append(fits.getdata(L1_filenames[n],ext=1).squeeze())\n",
    "\n",
    "    ## get Stokes Q,U, and V. \n",
    "    if n_stokes>1: \n",
    "        img.append(fits.getdata(L1_filenames[n].replace('_I_','_Q_'),ext=1).squeeze())\n",
    "        img.append(fits.getdata(L1_filenames[n].replace('_I_','_U_'),ext=1).squeeze())\n",
    "        img.append(fits.getdata(L1_filenames[n].replace('_I_','_V_'),ext=1).squeeze())\n",
    "    return hdrs[n]['CNCURSCN'],hdrs[n]['CNCMEAS'],img\n",
    "\n",
    "ncpus = min(multiprocessing.cpu_count() , 40)\n",
    "p     = multiprocessing.Pool(processes=ncpus,maxtasksperchild = 1000)\n",
    "arg_array = list(range(len(hdrs)))\n",
    "rs    = p.imap(work,arg_array)\n",
    "p.close()\n",
    "\n",
    "pbar = tqdm(total=len(arg_array),position = 0, leave = True)\n",
    "data *= 0   ## zeroing data incase of repeated running of this cell \n",
    "coadd_index *= 0\n",
    "for i,res in enumerate(rs):\n",
    "    CNCURSCN,CNCMEAS,imgs = res \n",
    "    if n_scanSteps>1: \n",
    "        data[:,CNCURSCN-1,0,:,:] += np.array(imgs)\n",
    "        coadd_index[CNCURSCN-1] += 1\n",
    "    else:   ## THIS CASE IS MEANT TO HANDLE SIT AND STARE CASES \n",
    "        data[:,0,CNCMEAS-1,:,:] = np.array(imgs)\n",
    "    pbar.update()\n",
    "pbar.close()\n",
    "\n",
    "if n_scanSteps>1: \n",
    "    data = data / coadd_index[None,:,None,None,None]"
   ]
  },
  {
   "cell_type": "code",
   "execution_count": null,
   "id": "2f429651-54fd-4952-b5e5-3a2c7308e3ce",
   "metadata": {},
   "outputs": [],
   "source": [
    "## OVERWRITE n_scanSteps to handle if sit-and-start measurement\n",
    "n_scanSteps = data.shape[1]\n",
    "print(f'Number of raster scan positions: {n_scanSteps}')"
   ]
  },
  {
   "cell_type": "markdown",
   "id": "8d6c9fdf-e220-48b1-b799-bd41b3f62389",
   "metadata": {},
   "source": [
    "## Photometric Units\n",
    "\n",
    "* The Level 1 data values correspond to the measured intensity relative to the calibration flat field data acquired at disk center.\n",
    "* A part of this calibration includes adjusting the flat field data values for the relative exposure times and fore-optics attenuation filter transmission.\n",
    "* We do not at this time account for sky transparency variations between the time of the flat field and the observation data.\n",
    "\n",
    "**More convenient units:  millionths (or ppm) of the disk center intensity**\n",
    "\n",
    "* Here we convert to units of millionths of the solar disk center brightness, i.e. micro B(sun center). The coronal line emission emission is typically a few to 10s of millionths of the disk center spectral radiance. \n",
    "* This can be converted to photometric energy units by referencing the disk center spectral radiance of the Sun from a catalog such as Allen's Astrophysical Quanitites. For wavelengths near 1075 nm, one millionth of coronal signal corresponds to ~ 182 photons cm^-2 arcsec^-2 nm^-1 in absolute solar units. "
   ]
  },
  {
   "cell_type": "code",
   "execution_count": null,
   "id": "dbc16ba6-0c48-4127-a630-4f7d99e1162a",
   "metadata": {
    "papermill": {
     "duration": null,
     "end_time": null,
     "exception": null,
     "start_time": null,
     "status": "completed"
    },
    "tags": []
   },
   "outputs": [],
   "source": [
    "data = data*1e6"
   ]
  },
  {
   "cell_type": "markdown",
   "id": "e7ba5003-6d7f-4997-92e3-aaa119998b94",
   "metadata": {
    "papermill": {},
    "tags": []
   },
   "source": [
    "##  Rotate Q and U to align +Q with the solar radial direction \n",
    "\n",
    "* DKIST L1 pipeline default polarization frame has +Q oriented along Solar E-W axis (i.e. parallel to solar meridian)\n",
    "* Here we find and apply the rotation angle that will align +Q with the solar radial direction.\n",
    "* +U will then be 45 degrees counterclockwise from the solar radial direction as viewed towards the Sun. "
   ]
  },
  {
   "cell_type": "code",
   "execution_count": null,
   "id": "5c604777-d6e7-410c-9f58-5627b10963d8",
   "metadata": {
    "papermill": {},
    "tags": []
   },
   "outputs": [],
   "source": [
    "hpxyCoords.shape,data.shape"
   ]
  },
  {
   "cell_type": "code",
   "execution_count": null,
   "id": "d06765df-5da0-4d17-9751-a84c53f768df",
   "metadata": {},
   "outputs": [],
   "source": [
    "linpol_rotate_angle = np.arctan2(hpxyCoords[1,:,0,:],hpxyCoords[0,:,0,:])\n",
    "cos2Rot = np.cos(2.*linpol_rotate_angle)[:,None,:,None]\n",
    "sin2Rot = np.sin(2.*linpol_rotate_angle)[:,None,:,None]"
   ]
  },
  {
   "cell_type": "code",
   "execution_count": null,
   "id": "775610e3-6a8c-41ba-b323-275081eb961e",
   "metadata": {},
   "outputs": [],
   "source": [
    "## apply Mueller Matrix rotation \n",
    "dataR = np.copy(data) \n",
    "dataR[1] =  cos2Rot*data[1]  + sin2Rot *data[2]\n",
    "dataR[2] = -sin2Rot*data[1]  + cos2Rot *data[2]"
   ]
  },
  {
   "cell_type": "code",
   "execution_count": null,
   "id": "ca84e25d-f3e9-496b-b718-cb47558e6700",
   "metadata": {},
   "outputs": [],
   "source": [
    "## copy rotated dataR into data variable and release dataR from memory \n",
    "data = np.copy(dataR)\n",
    "del dataR"
   ]
  },
  {
   "cell_type": "markdown",
   "id": "60c58e84-9de5-4944-b027-f5ce4e490bec",
   "metadata": {},
   "source": [
    "## Create some quicklooks"
   ]
  },
  {
   "cell_type": "markdown",
   "id": "4ecd03ae-1f31-41e2-bbcb-9f2b0b1e11aa",
   "metadata": {},
   "source": [
    "### Plot example spectral image\n",
    "\n",
    "* First we create a spectral image and profile plot.  We also identify the location of the coronal line in the data to create quicklook images below."
   ]
  },
  {
   "cell_type": "code",
   "execution_count": null,
   "id": "4bf49513-729e-450e-a2bc-b8622fc521a8",
   "metadata": {},
   "outputs": [],
   "source": [
    "## WHICH CORONAL LINE IS IN THE DATA ? \n",
    "if (1074.65>specCoords.min()) and (1074.65<specCoords.max()): \n",
    "    wvc = 1074.65  ## wavelength center of targeted coronal Fe XIII line \n",
    "    wLine = np.argmin(np.abs(specCoords - 1074.65))  ## pixel location of coronal line\n",
    "    wCont = np.argmin(np.abs(specCoords - 1074.))   ## pixel location of clean continuum \n",
    "    wPhotosphericReference = (specCoords>1074.8)*(specCoords<1075.2)\n",
    "elif (1079.8>specCoords.min()) and (1079.8<specCoords.max()):\n",
    "    wvc = 1079.8  ## wavelength center of targeted coronal Fe XIII line \n",
    "    wLine = np.argmin(np.abs(specCoords - 1079.8)) ## pixel location of coronal line\n",
    "    wCont = np.argmin(np.abs(specCoords - 1080.2)) ## pixel location of clean continuum \n",
    "    wPhotosphericReference = (specCoords>1078.)*(specCoords<1078.85)\n",
    "else: \n",
    "    print('Wavelength case not handled')\n",
    "    raise\n",
    "\n",
    "print(f\"Coronal line nominal center wavelength [nm]:  {wvc}\")\n",
    "print(f\"Spectral pixel index for coronal line:        {wLine}\")\n",
    "print(f\"Spectral pixel index for continuum reference: {wCont}\")"
   ]
  },
  {
   "cell_type": "code",
   "execution_count": null,
   "id": "7bf42512-8117-42e3-86c4-4904222318fb",
   "metadata": {
    "papermill": {
     "duration": null,
     "end_time": null,
     "exception": null,
     "start_time": null,
     "status": "completed"
    },
    "tags": []
   },
   "outputs": [],
   "source": [
    "fig,ax = plt.subplots(1,2,figsize = (9,4),width_ratios=[0.3,0.7])\n",
    "ax = ax.flatten()\n",
    "\n",
    "im0 = ax[0].imshow(data[0,n_scanSteps//2,0,:,:],extent = (specCoords[0],specCoords[-1],0,n_alongSlit*slitSamp),aspect = 'auto')\n",
    "im0.set_clim(np.nanpercentile(data[0,n_scanSteps//2,0,:,:],[1,99]))\n",
    "ax[0].set_xlabel(\"Wavelength [nm]\")\n",
    "ax[0].set_ylabel(\"Arcseconds along slit\")\n",
    "ax[0].set_title(\"Spectral Image\")\n",
    "\n",
    "yp = 1200  ## data row to plot \n",
    "ax[0].axhline(yp*slitSamp,ls = 'dashed',color = 'blue')\n",
    "\n",
    "cax = ax[0].inset_axes([1.04, 0.05, 0.05, 0.95], transform=ax[0].transAxes)\n",
    "cbar = fig.colorbar(ax[0].get_images()[0],ax=ax[0],cax=cax)\n",
    "\n",
    "ax[1].plot(specCoords,data[0,n_scanSteps//2,0,yp,:],color = 'blue')\n",
    "ax[1].set_xlabel(\"Wavelength [nm]\")\n",
    "ax[1].set_title(\"Extracted Spectral Profile\")\n",
    "ax[1].set_ylabel(r\"Spectral Radiance [$\\mu$B$_{\\odot}$]\")\n",
    "ax[1].locator_params(axis='x', nbins=6)\n",
    "ax[1].grid(ls = 'solid',lw = 0.2,color = 'grey')\n",
    "ax[1].axvline(wvc,label = 'Coronal Nominal Center Wavelength',color = 'magenta',lw = 1,ls = 'dashed')\n",
    "ax[1].axvline(specCoords[wCont],label = 'Continuum Reference Position',color = 'green',lw = 1,ls = 'dashed')\n",
    "\n",
    "w0 = specCoords[wPhotosphericReference][0]\n",
    "w1 = specCoords[wPhotosphericReference][-1]\n",
    "ax[1].fill_between([w0,w1],ax[1].get_ylim()[1]+np.zeros(2),color = 'orange',alpha = 0.5,label = \"Photospheric Lines Used\\nFor Polarimetric Corrections\")\n",
    "\n",
    "\n",
    "## Annotate some known errors\n",
    "ax[1].annotate('Edge feature\\nintroduced\\nby flat field\\nerrors', (1076.25,95.),(1075.8,45.),color ='red',\n",
    "               fontsize = 8, arrowprops=dict(facecolor='black', shrink=0.05,lw = 1))\n",
    "ax[1].annotate('Fe XIII\\n1074 nm\\ncoronal line', (1074.5,110),(1073.5,110.),color='red',\n",
    "               fontsize = 8, arrowprops=dict(facecolor='black', shrink=0.05,lw = 1),va='center')\n",
    "ax[1].annotate('Terrestrial/instrumental\\n\"background\" scattered light', (1073.5,88),(1073.5,60.),color = 'red',\n",
    "               fontsize = 9, arrowprops=dict(facecolor='black', shrink=0.05,lw = 1),ha='center',va='center')\n",
    "\n",
    "ax[1].legend(fontsize = 8,loc = 'lower left')\n",
    "fig.tight_layout()"
   ]
  },
  {
   "cell_type": "markdown",
   "id": "f227454d-2463-4d7b-9dde-43d198e1590e",
   "metadata": {},
   "source": [
    "### Level 1 Stokes Spectral Images\n",
    "\n",
    "* Here we look at the full Stokes spectra at a single raster slit position.\n",
    "* At this point, there is **residual polarimetric crosstalk** in the Stokes data that will need to be corrected with ad hoc methods (see, e.g., Schad et al. 2022). "
   ]
  },
  {
   "cell_type": "code",
   "execution_count": null,
   "id": "5f09849d-d34c-4231-b958-be645d990f60",
   "metadata": {},
   "outputs": [],
   "source": [
    "fig,ax = plt.subplots(1,4,figsize = (9,6),sharex=True,sharey=True)\n",
    "ax = ax.flatten()\n",
    "\n",
    "labels = 'Stokes I','Q','U','V'\n",
    "for n in range(4):\n",
    "    img2show = ndimage.median_filter(data[n,n_scanSteps//2,0,:,:],(20,1))\n",
    "    imn = ax[n].imshow(img2show,extent = (specCoords[0],specCoords[-1],0,n_alongSlit*slitSamp),aspect = 'auto')\n",
    "    imgMin,imgMed,imgMax = np.nanpercentile(img2show,[1,50,99]) \n",
    "    imn.set_clim(imgMed - 0.5*(imgMax-imgMin),imgMed + 0.5*(imgMax-imgMin))\n",
    "    ax[n].set_title(labels[n] + r' [$\\mu$B$_{\\odot}$]')\n",
    "\n",
    "for axi in ax: \n",
    "    cax = axi.inset_axes([0.01, 1.01, 0.99, 0.03], transform=axi.transAxes)\n",
    "    cbar = fig.colorbar(axi.get_images()[0],ax=axi,cax=cax,location = 'top')\n",
    "\n",
    "fig.supxlabel(\"Wavelength [nm]\")\n",
    "fig.supylabel(\"Arcseconds along slit\")\n",
    "\n",
    "bbox = dict(boxstyle=\"round\", fc=\"white\")\n",
    "ax[1].annotate(\"Photospheric lines\\nin Q indicates I to Q\\ncrosstalk\", (1073.,180),(1073.7,180.),bbox = bbox,\n",
    "               fontsize = 8, arrowprops=dict(facecolor='yellow', shrink=0.05,lw = 1),ha='left',va='center')\n",
    "ax[2].annotate(\"Curved rectangular\\nfeature due to\\ndetector readout\\nchannel instability\", (1073.5,70),(1073.9,20.),bbox = bbox,\n",
    "               fontsize = 8, arrowprops=dict(facecolor='yellow', shrink=0.05,lw = 1),ha='left',va='center')\n",
    "ax[3].annotate(\"Symmetric V coronal line\\nshape interpreted as\\nweak lin. to circ. crosstalk\", (1074.6,90),(1072.9,50.),bbox = bbox,\n",
    "               fontsize = 8, arrowprops=dict(facecolor='yellow', shrink=0.05,lw = 1),ha='left',va='center')\n",
    "ax[3].annotate(\"Antisymmetric-V\\nphotospheric signal\\nresulting from scattered\\ndisk Zeeman signals\", (1075,160),(1072.9,210.),bbox = bbox,\n",
    "               fontsize = 8, arrowprops=dict(facecolor='yellow', shrink=0.05,lw = 1),ha='left',va='center')\n",
    "fig.suptitle(\"Example Stokes Spectral Images with residual polarimetric crosstalk\\n[Median filter of 20 spatial pixels applied in plot]\")\n",
    "fig.tight_layout()"
   ]
  },
  {
   "cell_type": "markdown",
   "id": "3ff8c2e1-6fbb-4716-a830-217dfafd7ce4",
   "metadata": {},
   "source": [
    "### Quicklook raster maps of the line and background intensities"
   ]
  },
  {
   "cell_type": "code",
   "execution_count": null,
   "id": "d03d4a76-5c38-4476-a7d1-6df177f3c91d",
   "metadata": {},
   "outputs": [],
   "source": [
    "print(f\"Data shape reminder:  {data.shape}\")\n",
    "print(f\"Pixel near coronal line center: {wLine}\")\n",
    "print(f\"Pixel in background continuum: {wCont}\")\n",
    "imgLine = np.nanmedian(data[0,:,:,:,(wLine-3):(wLine+3)],axis=(1,3))  ## median of repeats and 6 wavelengths \n",
    "imgCont = np.nanmedian(data[0,:,:,:,(wCont-3):(wCont+3)],axis=(1,3))"
   ]
  },
  {
   "cell_type": "code",
   "execution_count": null,
   "id": "d21d0860-9f41-4451-baa1-cd56d49fac86",
   "metadata": {},
   "outputs": [],
   "source": [
    "fig,ax = plt.subplots(1,2,figsize = (9,4),sharex=True,sharey=True)\n",
    "ax = ax.flatten()\n",
    "cmap= plt.get_cmap('Greys_r')\n",
    "im0 = ax[0].imshow((imgLine-imgCont),aspect=stepWidth/slitSamp,cmap = cmap)\n",
    "im1 = ax[1].imshow(imgCont ,aspect=stepWidth/slitSamp,cmap = 'viridis',norm = PowerNorm(0.3))\n",
    "CS = ax[1].contour(imgCont,[75,100,150],colors = 'white',linestyles = ('dashed','dotted','dashdot'))\n",
    "ax[1].clabel(CS, CS.levels, inline=True, fontsize=10)\n",
    "\n",
    "im0.set_clim(np.nanpercentile(imgLine-imgCont,[5,95]))\n",
    "im1.set_clim(np.nanpercentile(imgCont,[5,95]))\n",
    "ax[0].set_title(f\"Quicklook Coronal Line Intensity\\nFe XIII {np.round(specCoords[wLine],2)} nm\")\n",
    "ax[1].set_title(f\"Quicklook Scattered Continuum\\n Intensity {np.round(specCoords[wCont],2)} nm\")\n",
    "cbars = []\n",
    "for axi in ax:\n",
    "    cax = axi.inset_axes([1.04, 0.05, 0.05, 0.95], transform=axi.transAxes)\n",
    "    cbar1 = fig.colorbar(axi.get_images()[0],ax=axi,cax=cax)\n",
    "    cbar1.set_label(\"$\\mu$B$_{\\odot}$\")\n",
    "    cbars.append(cbar1)\n",
    "    axi.set_xlabel(\"Pixels along Slit\")\n",
    "ax[0].set_ylabel(\"Scan Steps\")\n",
    "fig.suptitle(f\"Dataset: {dataset_directory}\")\n",
    "\n",
    "ax[0].annotate(\"Regions of detector\\nsaturation\", (1000.,1),(750.,10.),bbox = bbox,\n",
    "               fontsize = 8, arrowprops=dict(facecolor='yellow', shrink=0.05,lw = 1),ha='right',va='center')\n",
    "\n",
    "ax[1].annotate(\"Limb occulter\\nsensor\", (150.,3),(300.,12.),bbox = bbox,\n",
    "               fontsize = 8, arrowprops=dict(facecolor='yellow', shrink=0.05,lw = 1),ha='left',va='center')\n",
    "ax[1].annotate(\"Limb occulter\\nsensor\", (1645.,3),(1450.,12.),bbox = bbox,\n",
    "               fontsize = 8, arrowprops=dict(facecolor='yellow', shrink=0.05,lw = 1),ha='right',va='center')\n",
    "ax[1].annotate(\"5 arcmin field\\nstop edge\", (1726.,46.1),(1300.,40.),bbox = bbox,\n",
    "               fontsize = 8, arrowprops=dict(facecolor='yellow', shrink=0.05,lw = 1),ha='right',va='center')\n",
    "ax[1].annotate(\"\", (226.,46.1),(785.,40.),bbox = bbox,\n",
    "               fontsize = 8, arrowprops=dict(facecolor='yellow', shrink=0.05,lw = 1),ha='right',va='center')\n",
    "fig.tight_layout()"
   ]
  },
  {
   "cell_type": "markdown",
   "id": "fdb47c33-0b1f-4c9f-bf10-243dc325f3b2",
   "metadata": {},
   "source": [
    "#### View spectra near solar limb where saturation occurs\n",
    "\n",
    "* The regions of detector saturation above occur near scan steps <5, which are those when the slit, which was parallel to the solar limb, was closest to the solar limb.\n",
    "* The data in these regions is compromised by the detector saturation and should not be used."
   ]
  },
  {
   "cell_type": "code",
   "execution_count": null,
   "id": "c9d7902c-06ba-437b-8015-d0834fe3b4ee",
   "metadata": {},
   "outputs": [],
   "source": [
    "fig,ax = plt.subplots(1,4,figsize = (9,5),sharex=True,sharey=True)\n",
    "ax = ax.flatten()\n",
    "\n",
    "labels = 'Stokes I','Q','U','V'\n",
    "for n in range(4):\n",
    "    imn = ax[n].imshow(data[n,0,0,:,:],extent = (specCoords[0],specCoords[-1],0,n_alongSlit*slitSamp),aspect = 'auto')\n",
    "    imn.set_clim(np.nanpercentile(data[n,0,0,:,:],[1,99]))\n",
    "    ax[n].set_title(labels[n] + r' [$\\mu$B$_{\\odot}$]')\n",
    "\n",
    "for axi in ax: \n",
    "    cax = axi.inset_axes([0.01, 1.01, 0.99, 0.03], transform=axi.transAxes)\n",
    "    cbar = fig.colorbar(axi.get_images()[0],ax=axi,cax=cax,location = 'top')\n",
    "\n",
    "for axi in ax: \n",
    "    axi.annotate(\"Limb occulter\\nsensor\", (1073.,200),(1073.,160.),bbox = bbox,\n",
    "                fontsize = 8, arrowprops=dict(facecolor='yellow', shrink=0.05,lw = 1),ha='left',va='center')\n",
    "    axi.annotate(\"Saturation\\nartifacts\", (1075.5,120),(1073.,80.),bbox = bbox,\n",
    "                   fontsize = 8, arrowprops=dict(facecolor='yellow', shrink=0.05,lw = 1),ha='left',va='center')\n",
    "\n",
    "fig.supxlabel(\"Wavelength [nm]\")\n",
    "fig.supylabel(\"Arcseconds along slit\")\n",
    "fig.suptitle(\"Stokes spectra acquired at the edge closest to limb\\nwith SIGNS OF DATA SATURATION\",fontsize = 15,color = 'blue')\n",
    "fig.tight_layout()"
   ]
  },
  {
   "cell_type": "markdown",
   "id": "fd08ada5-0983-4cf3-8848-6d9221a78aa8",
   "metadata": {},
   "source": [
    "### Quicklook raster maps of Stokes Signals"
   ]
  },
  {
   "cell_type": "code",
   "execution_count": null,
   "id": "d6bbc96c-d4dd-4e81-a6bd-756ffbbe050c",
   "metadata": {},
   "outputs": [],
   "source": [
    "fig,ax = plt.subplots(2,2,figsize = (9,7),sharex=True,sharey=True)\n",
    "ax = ax.flatten()\n",
    "\n",
    "for n in range(4): \n",
    "    imgLine = np.nanmedian(data[n,:,:,:,(wLine-3):(wLine+3)],axis=(1,3))  ## median of repeats and 6 wavelengths \n",
    "    imgCont = np.nanmedian(data[n,:,:,:,(wCont-3):(wCont+3)],axis=(1,3))\n",
    "    imn = ax[n].imshow((imgLine-imgCont),aspect=stepWidth/slitSamp)\n",
    "    imn.set_clim(np.nanpercentile(imgLine-imgCont,[5,95]))\n",
    "    ax[n].set_title(labels[n] + r' [$\\mu$B$_{\\odot}$]')\n",
    "    ax[n].annotate(\"Regions of detector\\nsaturation\", (1000.,1),(750.,10.),bbox = bbox,\n",
    "               fontsize = 8, arrowprops=dict(facecolor='yellow', shrink=0.05,lw = 1),ha='right',va='center')\n",
    "\n",
    "for axi in ax:\n",
    "    cax = axi.inset_axes([1.04, 0.05, 0.05, 0.95], transform=axi.transAxes)\n",
    "    cbar1 = fig.colorbar(axi.get_images()[0],ax=axi,cax=cax)\n",
    "    cbar1.set_label(\"$\\mu$B$_{\\odot}$\")\n",
    "\n",
    "fig.supylabel(\"Scan Steps\")\n",
    "fig.supxlabel(\"Pixels along the slit\")\n",
    "fig.suptitle(\"Quicklook Stokes Raster Maps\\n(includes residual polarimetric crosstalk)\")\n",
    "fig.tight_layout()    \n",
    "    "
   ]
  },
  {
   "cell_type": "markdown",
   "id": "b9d943d1-938d-4225-8da8-883544fd1768",
   "metadata": {
    "papermill": {
     "duration": null,
     "end_time": null,
     "exception": null,
     "start_time": null,
     "status": "completed"
    },
    "tags": []
   },
   "source": [
    "# Prepare for spectral line fitting \n",
    "\n",
    "* The goal in this section is to extract line fit parameters pertaining to the Fe XIII Stokes spectral profiles.\n",
    "* Due to the background scattered light amplitude, we must model the effects of the scattered photospheric light and the telluric absorption on the observed profiles, in addition to various instrumental response parameters (e.g. resolving power) \n",
    "* We will also implement a correction for the polarized crosstalk in the data using an ad-hoc method as partially described in Schad et al. (2022). "
   ]
  },
  {
   "cell_type": "code",
   "execution_count": null,
   "id": "1b56ac29-5345-4fa0-82cd-b5e479ee9469",
   "metadata": {},
   "outputs": [],
   "source": [
    "## DOWNLOAD THE ATLAS FILES IS NOT ALREADY IN DIRECTORY\n",
    "if not os.path.exists('./solar_merged_20200720_600_33300_100.out.gz'): \n",
    "    !wget -nc --no-parent https://github.com/tschad/dkist_telluric_atlas/raw/main/atlases/telluric_atlas_mainMol_USstd_wv_air_angstrom_v20240307.npy\n",
    "    !wget -nc --no-parent https://github.com/tschad/dkist_telluric_atlas/raw/main/atlases/telluric_atlas_mainMol_USstd_CO2_416ppm-Base_3km-PWV_3__mm-Airmass_1___v20240307.npy\n",
    "    !wget -nc --no-parent https://mark4sun.jpl.nasa.gov/toon/solar/solar_merged_20200720_600_33300_100.out.gz"
   ]
  },
  {
   "cell_type": "markdown",
   "id": "91aaaa9c-5c0f-48c3-be91-e45d2dce6f79",
   "metadata": {},
   "source": [
    "## Load spectral atlases for modeling\n",
    "\n",
    "* Here we load the telluric absorption and solar atlases that we will use for the fitting.  The choice to use these particular atlases is open for discussion.\n",
    "* The telluric atlas is sourced from [Tom Schad's DKIST Telluric Atlas](www.github.com/tschad/dkist_telluric_atlas), which is a repository that shows how to calculate synthetic terrestrial spectra using the HITRAN database of molecular properties and a model of the Earth's atmosphere (i.e, temperature, pressure, molecular concentrations, etc.)\n",
    "  * The model used contains 3 mm of precipitable water vapor above the telescope.  Water absorption is important near the 1 micron lines, and can be quite variable day to day. Some days there may be a lot of water, and others, its almost negligble.\n",
    "* The solar atlas is the \"Solar Pseudo-Transmittance Spectrum\" generated by Geoffrey C. Toon, as part of the \"Solar line list gor GGG2014\" within the TCCON project.  For more details, see https://mark4sun.jpl.nasa.gov/toon/solar/solar_spectrum.html."
   ]
  },
  {
   "cell_type": "code",
   "execution_count": null,
   "id": "718f55fe-2efc-4e86-8511-99af6dbb1b59",
   "metadata": {
    "papermill": {
     "duration": null,
     "end_time": null,
     "exception": null,
     "start_time": null,
     "status": "completed"
    },
    "tags": []
   },
   "outputs": [],
   "source": [
    "## LOAD THE TELLURIC ATLAS \n",
    "wvair_telluric = np.load('./telluric_atlas_mainMol_USstd_wv_air_angstrom_v20240307.npy')  /10.                  ## converting to nm \n",
    "trans_telluric  = np.load('./telluric_atlas_mainMol_USstd_CO2_416ppm-Base_3km-PWV_3__mm-Airmass_1___v20240307.npy')\n",
    "\n",
    "## LOAD SOLAR ATLAS\n",
    "def vac2air(wave_vac):\n",
    "    \"\"\" Converts wavelengths from vacuum to air-equivalent \"\"\"\n",
    "    wave_air = np.copy(wave_vac)\n",
    "    ww  = (wave_vac >= 2000) \n",
    "    sigma2 = (1e4 / wave_vac[ww])**2 \n",
    "    n = 1 + 0.0000834254 + 0.02406147 / (130 - sigma2) + 0.00015998 / (38.9 - sigma2)\n",
    "    wave_air[ww] = wave_vac[ww] / n\n",
    "    return wave_air\n",
    "# data is in wavenumber [cm^-1] in vacuum, it needs to be in wavelength in air. \n",
    "dc   = np.loadtxt('./solar_merged_20200720_600_33300_100.out.gz',skiprows =3)  ## disk integrate  -- 100\n",
    "wvair_solar = vac2air(1e8/dc[:,0])[::-1]   / 10.\n",
    "atlas_solar = dc[:,1][::-1]    \n",
    "\n",
    "## INTERPOLATE ATLASES ONTO THE SPECTRAL AXIS OF THE CRYONIRSP DATA \n",
    "trans_telluric = np.interp(specCoords,wvair_telluric,trans_telluric)\n",
    "atlas_solar = np.interp(specCoords,wvair_solar,atlas_solar)"
   ]
  },
  {
   "cell_type": "code",
   "execution_count": null,
   "id": "3f2b9346-d437-4274-9110-8d87299fc640",
   "metadata": {},
   "outputs": [],
   "source": [
    "## Plot atlases\n",
    "fig,ax = plt.subplots(2,1,figsize = (6,5),sharex=True,sharey=True)\n",
    "ax[0].plot(specCoords,trans_telluric,label = \"Synthetic Telluric Atlas\\n(github.com/tschad/dkist_telluric_atlas)\")\n",
    "ax[1].plot(specCoords,atlas_solar,'g',label = 'TOON Solar Pseudo-Transmittance\\nSpectrum (Disk Center without telluric absorption)')\n",
    "fig.suptitle(\"Reference Atlas Spectra\")\n",
    "ax[1].set_xlabel(\"Wavelength [nm]\")\n",
    "for axi in ax: \n",
    "    axi.axvline(wvc,lw = 5,color = 'yellow',zorder = -5,label = 'Fe XIII Line Position')\n",
    "    axi.legend(fontsize = 10,loc = 'lower left')\n",
    "    axi.grid(ls = 'dashed')\n",
    "fig.tight_layout()"
   ]
  },
  {
   "cell_type": "markdown",
   "id": "6a2dc567-a466-4a7c-86a2-0de8f2fed8ac",
   "metadata": {},
   "source": [
    "### Define some numba functions needed for later\n",
    "\n",
    "* Fitting all of the spectral profiles can benefit from accelerated forward functions.  Here numba is used, but the functions can easily be changed to not use numba by removing the decorators."
   ]
  },
  {
   "cell_type": "code",
   "execution_count": null,
   "id": "1674299e-9a4b-4e70-996f-8f197f6a2889",
   "metadata": {},
   "outputs": [],
   "source": [
    "@njit(fastmath=True)\n",
    "def gaussian_filter1d_numba(input_array, sigma):\n",
    "    ''' Applies a Gaussian 1D convolution to 1d array '''\n",
    "    # Generate Gaussian kernel\n",
    "    radius = int(3 * sigma + 0.5)  ## USING ONLY 3 STD DEVS FOR SPEED\n",
    "    x = np.arange(-radius, radius + 1)\n",
    "    gaussian_kernel = np.exp(-0.5 * (x / sigma) ** 2)\n",
    "    gaussian_kernel /= gaussian_kernel.sum()\n",
    "    output = np.zeros_like(input_array)\n",
    "    for i in range(radius,len(input_array)-radius):\n",
    "        for k in range(len(gaussian_kernel)):\n",
    "            j = i + k - radius\n",
    "            output[i] += input_array[j] * gaussian_kernel[k]\n",
    "    ## edge treatment\n",
    "    output[:radius] = input_array[:radius]\n",
    "    output[(-radius):] = input_array[(-radius):]\n",
    "    return output\n",
    "\n",
    "@njit(fastmath=True)\n",
    "def gradient_1d(arr,spacing=1.0):\n",
    "    ''' Calculated the 1d gradient of an array (replaces np.gradient)'''\n",
    "    n = len(arr)\n",
    "    grad = np.zeros(n)\n",
    "    # Forward difference for the first element\n",
    "    grad[0] = (arr[1] - arr[0]) / spacing\n",
    "    # Central difference for the interior elements\n",
    "    for i in range(1, n - 1):\n",
    "        grad[i] = (arr[i + 1] - arr[i - 1]) / (2.0 * spacing)\n",
    "    # Backward difference for the last element\n",
    "    grad[n - 1] = (arr[n - 1] - arr[n - 2]) / spacing\n",
    "    return grad"
   ]
  },
  {
   "cell_type": "markdown",
   "id": "9a2775f5-2d23-4e5f-aee0-2ead8dc03ca5",
   "metadata": {},
   "source": [
    "# Spectroscopic (Stokes-I) Line Fitting\n",
    "\n",
    "* We now start line fitting by considering the spectroscopic case first; that is, we ignore the polarized states and fit only Stokes I.\n",
    "* The model below seeks to fit a Gaussian line profile to the coronal line emission while modeling the blended solar and telluric components. "
   ]
  },
  {
   "cell_type": "markdown",
   "id": "629b1c9e-9a73-4d97-8543-2dc03ed0fbc6",
   "metadata": {},
   "source": [
    "## Create a fitting function "
   ]
  },
  {
   "cell_type": "code",
   "execution_count": null,
   "id": "5e3f90bc-1c04-4149-ade2-93b0bf4d0fee",
   "metadata": {},
   "outputs": [],
   "source": [
    "## Define spectral weights to apply\n",
    "Iwgts = np.ones_like(specCoords)\n",
    "## ....set edge weights to zero to mitigate flat field artifacts\n",
    "Iwgts[0:75] = 0\n",
    "Iwgts[(-75):] = 0\n",
    "## ...increase weights in vicintiy of the coronal line to bias the fit to this region \n",
    "Iwgts[(specCoords>(wvc-0.5))*(specCoords<(wvc+0.5))] = 5.\n",
    "## ...normalize weights \n",
    "Iwgts = Iwgts/np.max(Iwgts)\n",
    "\n",
    "wv_mean = specCoords.mean()\n",
    "dwv = np.abs(specCoords[0]-specCoords[1])\n",
    "\n",
    "@njit(fastmath=True)\n",
    "def modelStokesI(para): \n",
    "    ''' Forward model of spectral line observation assuming single Gaussian profile for coronal line \n",
    "    \n",
    "        Parameters within para input list are: \n",
    "\n",
    "        lineAmp    -- Gaussian function amplitude of the coronal line in micro-B\n",
    "        lineCenWv  -- Coronal line center wavelength (including Doppler shift) in nm \n",
    "        lineWidth  -- Gaussian line width in nm  \n",
    "        LSF_RPOW   -- Resolving power of line spread function \n",
    "        opac       -- An opacity factor to modify total telluric line absorpance \n",
    "        velS       -- Velocity shift of solar atlas relative to observed spectrum\n",
    "        velT       -- Velocity shift of telluic atlas relative to observed spectrum\n",
    "        strayfrac  -- Additional scalar fraction of straylight within spectrograph (i.e. the \"veil\" component)\n",
    "        icont      -- Amplitude of the background continuum intensity (dominated by scattered light)\n",
    "    \n",
    "    '''\n",
    "    \n",
    "    lineAmp,lineCenWv,lineWidth,LSF_RPOW,opac,velS,velT,strayfrac,icont,= para \n",
    "    \n",
    "    ## coronal line\n",
    "    coronal_line = lineAmp*np.exp(-(specCoords-lineCenWv)**2/(2*lineWidth**2)) \n",
    "    \n",
    "    ## telluric transmission and scattered photospheric light contributions\n",
    "    ftsTmod = np.interp(specCoords,specCoords + velT/3e5*wv_mean,trans_telluric**opac)\n",
    "    ftsSmod = np.interp(specCoords,specCoords + velS/3e5*wv_mean,atlas_solar)\n",
    "    ftsmod  = ftsTmod * ftsSmod\n",
    "    \n",
    "    ## add straylight and scale for amplitude\n",
    "    ftsmod = icont * (ftsmod + strayfrac) / (1. + strayfrac)\n",
    "\n",
    "    ## combine components\n",
    "    ifit = ftsmod + (coronal_line * ftsTmod)     \n",
    "\n",
    "    ## Gaussian convolution of the FTS atlast\n",
    "    kern_pix  = (wvc / LSF_RPOW) / 2.3548200450309493 / dwv\n",
    "    ifit = gaussian_filter1d_numba(ifit, kern_pix) \n",
    "    \n",
    "    return ifit\n",
    "\n",
    "@njit(fastmath=True)\n",
    "def objFuncStokesI(para,ii): \n",
    "    ''' Objective function -- Reduced Chi-Squared Statistic ''' \n",
    "    ifit = modelStokesI(para)\n",
    "    ires = np.sum((ii-ifit)**2  * Iwgts) / np.sum(Iwgts)\n",
    "    return ires"
   ]
  },
  {
   "cell_type": "markdown",
   "id": "19c554b9-3c7b-48bf-9e82-9531e88776f8",
   "metadata": {
    "papermill": {
     "duration": 0.066401,
     "end_time": "2024-09-04T18:54:48.085168",
     "exception": false,
     "start_time": "2024-09-04T18:54:48.018767",
     "status": "completed"
    },
    "tags": []
   },
   "source": [
    "## Example fit using differential evolution \n",
    "\n",
    "* For optimization, we use differential evolution (a genetic algorithm), which is less likely to get stuck in local minimum, but does take longer computational times."
   ]
  },
  {
   "cell_type": "code",
   "execution_count": null,
   "id": "7ef7bbe5-1064-4e00-9414-297a34485e19",
   "metadata": {
    "papermill": {
     "duration": 5.295284,
     "end_time": "2024-09-04T18:54:53.447161",
     "exception": false,
     "start_time": "2024-09-04T18:54:48.151877",
     "status": "completed"
    },
    "scrolled": true,
    "tags": []
   },
   "outputs": [],
   "source": [
    "%%time \n",
    "yp = n_alongSlit//2     ## select a pixel along the slit for an example \n",
    "step = n_scanSteps//2   ## select a raster step to use \n",
    "step,yp = 39,455\n",
    "## get observation -- here we take a local spatial median of 10 pixels along the slit \n",
    "## 10 pixels at 0.12 arcsec per pixel ==> 1.2 \n",
    "ii = np.nanmedian(data[0,step,0,(yp-5):(yp+5),:],axis=0)\n",
    "\n",
    "## Bounds of the model variables\n",
    "pnames = 'lineAmp','lineCew','lineWid','LSF_FWHM','opacity','velS','velT','strayfrac','icont',\n",
    "bounds = [(0,2*(np.max(ii)-np.nanmedian(ii))),                            ## line ampltitude in millionths \n",
    "          (wvc*(1-10/3e5),wvc*(1.+10/3e5)),  ## coronal line center wavelength [nm]\n",
    "          (0.055,0.1),                       ## coronal Gaussian line width [nm]\n",
    "          (30000,70000),                  ## Resolving power of line spread function \n",
    "          (0.05,2),                          ## telluric opacity factor \n",
    "          (0,3),                             ## velocity shift in km/s for the solar atlas  [TUNED ACCORDING TO PRELIMINARY FITS]\n",
    "          (-3,0),                            ## velocity shift in km/s for the telluric atlas [TUNED ACCORDING TO PRELIMINARY FITS]\n",
    "          (0.,0.5),                          ## Spectrograph constant straylight fraction \n",
    "          (np.nanmedian(ii)-3,np.nanmedian(ii)+3)]  ## Amplitude of the background scattered light in millionths      \n",
    "\n",
    "def callBFunc(intermediate_result):\n",
    "    ''' callback function to stop iterations once objective function is <0.3''' \n",
    "    return intermediate_result.fun < 0.12\n",
    "\n",
    "res = differential_evolution(objFuncStokesI,bounds,args = (ii,),disp = True,tol=1.e-14,maxiter = 75,\n",
    "                             popsize = 1,polish = True,callback=callBFunc)"
   ]
  },
  {
   "cell_type": "code",
   "execution_count": null,
   "id": "0771a037-063b-424b-a7a9-8920279461b1",
   "metadata": {},
   "outputs": [],
   "source": [
    "pnames = 'lineAmp','lineCew','lineWid','LSF_RPOW','opacity','velS','velT','strayfrac','icont',\n",
    "print(f\"Objective function final value: {res.fun}\")\n",
    "print(\"Parameter values...\")\n",
    "for n in range(len(res.x)): \n",
    "    print(f\"{str(n).ljust(6)}  {pnames[n].rjust(10)}:  {res.x[n]:10.4f}    Bounds (Min): {bounds[n][0]:9.3f}   (Max): {bounds[n][1]:9.3f}\")\n",
    "## Calculate fitted profile\n",
    "ifit = modelStokesI(res.x)"
   ]
  },
  {
   "cell_type": "code",
   "execution_count": null,
   "id": "c45b5c47-187e-47e8-8832-147cce6fd4f7",
   "metadata": {
    "papermill": {
     "duration": 0.314337,
     "end_time": "2024-09-04T18:54:53.972875",
     "exception": false,
     "start_time": "2024-09-04T18:54:53.658538",
     "status": "completed"
    },
    "tags": []
   },
   "outputs": [],
   "source": [
    "## Plot line fits \n",
    "fig,ax = plt.subplots(3,1,figsize = (6,5),sharex=True,height_ratios=[2,1,1])\n",
    "ax[0].plot(specCoords,ii,lw = 3,color = 'orange',label = 'Observations')\n",
    "\n",
    "lineAmp,lineCenWv,lineWidth = res.x[0:3]\n",
    "icont = res.x[-1]\n",
    "coronal_line = icont+ lineAmp*np.exp(-(specCoords-lineCenWv)**2/(2*lineWidth**2)) \n",
    "ax[0].plot(specCoords,ifit,lw = 1,color = 'black',label = 'Model Fit')\n",
    "ax[0].plot(specCoords,coronal_line,color = 'blue',label = \"Fitted coronal line component\\n (offset by continuum intensity\")\n",
    "ax[1].plot(specCoords,(ii-ifit)/ifit,label = '(Obs - Model) / Model')\n",
    "ax[2].plot(specCoords,Iwgts,ls = 'dashed',color = 'grey',label = 'Spectral Weights')\n",
    "ax[2].set_xlabel(\"Wavelength [nm]\")\n",
    "ax[0].set_ylabel(r\"$\\mu$B$_{\\odot}$\")\n",
    "for axi in ax: \n",
    "    axi.legend(loc = 'upper left',fontsize = 8)\n",
    "    axi.grid(ls = 'dashed',lw = 0.3,color = 'grey')\n",
    "fig.tight_layout()"
   ]
  },
  {
   "cell_type": "markdown",
   "id": "46ddc290-172f-4f98-a1b7-a7329d531348",
   "metadata": {},
   "source": [
    "## Do spectroscopy fits across raster map\n",
    "\n",
    "* We stride over the data to not fit all of the data in one go (this cuts down on the time to create a map)."
   ]
  },
  {
   "cell_type": "code",
   "execution_count": null,
   "id": "82feec05-eeda-456a-bf80-1187a5727bcb",
   "metadata": {},
   "outputs": [],
   "source": [
    "def callBFunc(intermediate_result):\n",
    "    return intermediate_result.fun < 0.12\n",
    "\n",
    "def work(argin): \n",
    "    \"\"\" function defining what work is carried out by the parallel process \"\"\" \n",
    "    step,yp = argin \n",
    "\n",
    "    ## Get observed Stokes I spectra at this step and yp (i.e. pixel along y or the slit)\n",
    "    ii = np.nanmedian(data[0,step,0,(yp-5):(yp+5),:],axis=0)  ## 10 pixel median \n",
    "\n",
    "    bounds = [(0,2*(np.max(ii)-np.nanmedian(ii))),                            ## line ampltitude in millionths \n",
    "          (wvc*(1-10/3e5),wvc*(1.+10/3e5)),  ## coronal line center wavelength [nm]\n",
    "          (0.055,0.1),                       ## coronal Gaussian line width [nm]\n",
    "          (37000,65000),                  ## Resolving power of line spread function \n",
    "          (0.05,0.7),                          ## telluric opacity factor \n",
    "          (0,3),                             ## velocity shift in km/s for the solar atlas  [TUNED ACCORDING TO PRELIMINARY FITS]\n",
    "          (-3,0),                            ## velocity shift in km/s for the telluric atlas [TUNED ACCORDING TO PRELIMINARY FITS]\n",
    "          (0.,0.5),                          ## Spectrograph constant straylight fraction \n",
    "          (np.nanmedian(ii)-3,np.nanmedian(ii)+3)]  ## Amplitude of the background scattered light in millionths      \n",
    "    \n",
    "    try: \n",
    "        res = differential_evolution(objFuncStokesI,bounds,args = (ii,),disp = False,tol=1.e-14,maxiter = 150,popsize = 1,polish = True,callback=callBFunc)\n",
    "        return step,yp,res.x,res.fun\n",
    "    except:\n",
    "        return step,yp,np.zeros(len(bounds)),np.nan\n",
    "    return "
   ]
  },
  {
   "cell_type": "code",
   "execution_count": null,
   "id": "87733839-3fe5-4312-af0a-6142a9521459",
   "metadata": {},
   "outputs": [],
   "source": [
    "%%time   \n",
    "## View time for one fit \n",
    "step = n_scanSteps//2\n",
    "yp   = n_alongSlit//2\n",
    "step_out,yp_out,result_out,objfun_out = work((step,yp))\n",
    "print(objfun_out)"
   ]
  },
  {
   "cell_type": "code",
   "execution_count": null,
   "id": "abf911dc-cfdf-4df2-9d8f-e00bb7d8229c",
   "metadata": {},
   "outputs": [],
   "source": [
    "## INITIAL FITTING EVERY 10 PIXELS ALONG THE SLIT \n",
    "pixel_stride = 10\n",
    "\n",
    "if 0: \n",
    "    ncpus = min(multiprocessing.cpu_count() , 70)\n",
    "    p     = multiprocessing.Pool(processes=ncpus,maxtasksperchild = 1000)\n",
    "    arg_array = []\n",
    "    for step in range(0,data.shape[1]): \n",
    "        for yp in range(5,data.shape[3]-5,pixel_stride): \n",
    "            arg_array.append((step,yp))\n",
    "\n",
    "    rs    = p.imap(work,arg_array)\n",
    "    p.close()\n",
    "    \n",
    "    pbar = tqdm(total=len(arg_array),position = 0, leave = True)\n",
    "\n",
    "    fit_results = np.zeros((data.shape[1],data.shape[3],len(bounds)+1),dtype = float)\n",
    "    \n",
    "    for i,res in enumerate(rs):\n",
    "        step,yp,result_out,objfun_out = res \n",
    "        fit_results[step,yp,:(-1)] = result_out \n",
    "        fit_results[step,yp,-1] = objfun_out  \n",
    "        pbar.update()\n",
    "    pbar.close()\n",
    "\n",
    "    np.save(output_directory + 'stokesI_line_fit_results.npy',fit_results)\n",
    "\n",
    "else:\n",
    "    fit_results = np.load(output_directory + 'stokesI_line_fit_results.npy')"
   ]
  },
  {
   "cell_type": "markdown",
   "id": "729baba8-bb55-452d-9ab7-1fd4900ce20b",
   "metadata": {},
   "source": [
    "### Create figure showing example fitted spectrum for one step"
   ]
  },
  {
   "cell_type": "code",
   "execution_count": null,
   "id": "4aff596c-744a-446e-bbee-c930bdee953f",
   "metadata": {},
   "outputs": [],
   "source": [
    "step = 24\n",
    "ii_obs = ndimage.median_filter(data[0,step,0,:,:],(10,1))[5::10]   ## OBSERVED\n",
    "ii_fit = np.zeros_like(data[0,step,0,:,:])  ## REGENERATE FITS \n",
    "for yp in range(5,data.shape[3]-5,pixel_stride): \n",
    "    ii_fit[yp,:] = modelStokesI(fit_results[step,yp,:(-1)])\n",
    "ii_fit = ii_fit[5::10]"
   ]
  },
  {
   "cell_type": "code",
   "execution_count": null,
   "id": "e9d6340e-e3ef-4d66-a3ec-383db15cca02",
   "metadata": {},
   "outputs": [],
   "source": [
    "fig,ax = plt.subplots(1,3,figsize = (9,6),sharex=True,sharey=True)\n",
    "ax = ax.flatten()\n",
    "im0 = ax[0].imshow(ii_obs,extent = (specCoords[0],specCoords[-1],0,n_alongSlit*slitSamp),aspect = 'auto')\n",
    "im0.set_clim(50,140)\n",
    "im1 = ax[1].imshow(ii_fit,extent = (specCoords[0],specCoords[-1],0,n_alongSlit*slitSamp),aspect = 'auto')\n",
    "im1.set_clim(50,140)\n",
    "im2 = ax[2].imshow((ii_obs-ii_fit)/ii_fit,extent = (specCoords[0],specCoords[-1],0,n_alongSlit*slitSamp),aspect = 'auto',cmap = 'viridis')\n",
    "im2.set_clim(-0.05,0.05)\n",
    "\n",
    "labels = \"Stokes I\\nObserved\",\"Stokes I\\nFitted Model\",\"(Obs-Fit)/Fit\"\n",
    "clabels = \"$\\mu$B$_{\\odot}$\",\"$\\mu$B$_{\\odot}$\",'Fraction'\n",
    "for n in range(3): ax[n].set_title(labels[n] + ' [' + clabels[n] + ']')\n",
    "\n",
    "for axi in ax: \n",
    "    cax = axi.inset_axes([0.01, 1.01, 0.99, 0.03], transform=axi.transAxes)\n",
    "    cbar = fig.colorbar(axi.get_images()[0],ax=axi,cax=cax,location = 'top')\n",
    "    \n",
    "fig.supxlabel(\"Wavelength [nm]\")\n",
    "fig.supylabel(\"Arcseconds along slit\")\n",
    "fig.suptitle(\"Fitted Spectral Images for a single raster step\",fontsize = 18)\n",
    "fig.tight_layout()"
   ]
  },
  {
   "cell_type": "markdown",
   "id": "2ac01e20-03ea-4cee-b868-b1e2617c9e09",
   "metadata": {},
   "source": [
    "### Create figure showing all Spectroscopic fit variables\n",
    "\n",
    "* Here we create maps of all fitted parameters.  Systematic and/or noise-dependent behavior should be examined here.\n",
    "* The appearance of coronal line features in some of the non-coronal-line parameters may indicated a better model is necessary. "
   ]
  },
  {
   "cell_type": "code",
   "execution_count": null,
   "id": "c6503592-7faa-441c-a162-b571ac5f45d8",
   "metadata": {},
   "outputs": [],
   "source": [
    "if stepWidth != 0: \n",
    "    imgExtent = (0,n_alongSlit*slitSamp,0,n_scanSteps*stepWidth)\n",
    "else: \n",
    "    imgExtent = (0,n_alongSlit*slitSamp,0,n_scanSteps)"
   ]
  },
  {
   "cell_type": "code",
   "execution_count": null,
   "id": "3db4cc90-1593-4f6a-969e-d35380ec7d89",
   "metadata": {},
   "outputs": [],
   "source": [
    "plotTitles= [r\"Line Peak Amplitude [$\\mu$B$_{\\odot}$]\", \n",
    "             \"Doppler Shift [km/s]\\n(relative to median)\",'Coronal Line Width [nm]',\n",
    "             'Estimated Resolving\\nPower','Telluric Line \\nOpacity Factor',\n",
    "             'Velocity shift applied to\\nscat. phot. spectrum',\n",
    "             'Velocity shift applied to\\ntelluric transmission','Inferred Spectral\\nStraylight Fraction',\n",
    "             'Background Intensity','Merit Function']\n",
    "\n",
    "default_cmap = plt.get_cmap('viridis')\n",
    "default_cmap.set_bad('indigo')\n",
    "\n",
    "doppvel_cmap = plt.get_cmap('RdBu')\n",
    "doppvel_cmap.set_bad('white')\n",
    "\n",
    "fig,ax = plt.subplots(3,4,figsize = (12,8),sharex=True,sharey=True)\n",
    "ax = ax.flatten()\n",
    "for n in range(10): \n",
    "    paraMap = fit_results[:,:,n]\n",
    "    if n !=1: \n",
    "        imn = ax[n].imshow(paraMap[:,5::pixel_stride],extent = imgExtent,cmap = default_cmap,norm = PowerNorm(0.85))\n",
    "        imn.set_clim(np.nanpercentile(fit_results[:,5::pixel_stride,n],[2,98]))\n",
    "    if n ==1: \n",
    "        median_wvc = np.nanmedian(paraMap[:,5::pixel_stride])\n",
    "        paraMap = (paraMap - median_wvc)/median_wvc*3e5\n",
    "        imn = ax[n].imshow(paraMap[:,5::pixel_stride],extent = imgExtent,cmap = doppvel_cmap)\n",
    "        imn.set_clim(-3,3)\n",
    "    if n==8: imn.set_clim(0,300)\n",
    "    if n==9: imn.set_clim(0,2)\n",
    "    ax[n].set_title(plotTitles[n],fontsize = 10)\n",
    "cbars = []\n",
    "for axi in ax[0:10]:\n",
    "    cax = axi.inset_axes([1.04, 0.05, 0.05, 0.95], transform=axi.transAxes)\n",
    "    cbar1 = fig.colorbar(axi.get_images()[0],ax=axi,cax=cax)\n",
    "    cbars.append(cbar1)\n",
    "for axi in ax[10:]: axi.set_visible(False)\n",
    "    \n",
    "fig.suptitle(\"Spectroscopic Fit Parameters \\n\" + dataset_directory,fontsize = 18 )\n",
    "fig.supylabel(\"Arcseconds in Stepping Direction\",fontsize = 18)\n",
    "fig.supxlabel(\"Arcseconds along slit\",fontsize = 18)\n",
    "fig.tight_layout()  "
   ]
  },
  {
   "cell_type": "markdown",
   "id": "06b276ec-a377-4b99-bea5-1c139a52c368",
   "metadata": {},
   "source": [
    "# Spectropolarimetric line fitting (plus corrections)\n",
    "\n",
    "* Now we proceed to the spectropolarimetric line fits, which are somewhat more complex.  This is due in part to the presence of residual crosstalk and polarized scattered light profiles from the on-disk structures. "
   ]
  },
  {
   "cell_type": "markdown",
   "id": "b2f86a88-5b3a-47e3-ac19-5713d57fac74",
   "metadata": {},
   "source": [
    "## Examine Interference Fringing  (Power spectra)\n",
    "\n",
    "* Quickly, we first look a power spectrum of the polarized Q,U,V profiles.  In data prior to Feb 2024, strong interference fringes are present, and a power spectrum will show prominent peaks.  In the data used in this tutorial, any peaks in the power spectrum are fairly benign and will not be treated or filtered further here.  In the future, tutorials for handling the interference fringes may be made available. "
   ]
  },
  {
   "cell_type": "code",
   "execution_count": null,
   "id": "81c554e3-b899-4292-a4a3-497219978a50",
   "metadata": {},
   "outputs": [],
   "source": [
    "## Get power spectrum \n",
    "plt.figure(figsize = (7,4))\n",
    "labels = 'I','Q/I','U/I','V/I'\n",
    "stokesSpec = np.copy(data[:,n_scanSteps//2,0,:,:])\n",
    "for n in range(1,4): \n",
    "    x_over_i = stokesSpec[n]  / stokesSpec[0] \n",
    "    x_over_i = x_over_i - np.nanmedian(x_over_i,axis=0)[None,:]\n",
    "    f_fringe, pxx_fringe = signal.periodogram(x_over_i,fs = 1,window = 'hann',scaling = 'spectrum')\n",
    "    ## will take the 95th percentile value of the individual row power spectrum to get an estimate of the largest magnitude \n",
    "    pxx_fringe = np.nanpercentile(pxx_fringe,75,axis=0)\n",
    "    estimateAmplitude_fringe = np.sqrt(pxx_fringe) * np.sqrt(2)  ## peak amplitude\n",
    "    estimatePeak2Peak_fringe = np.sqrt(pxx_fringe) * np.sqrt(2) * 2. \n",
    "    plt.plot( 1/f_fringe,estimatePeak2Peak_fringe * 100.,'.-',markersize = 0.2,label = labels[n])\n",
    "plt.legend()\n",
    "plt.xlabel(\"Period [spectral pixels]\" ,fontsize = 14,color = 'blue')\n",
    "plt.xscale('log')\n",
    "plt.ylabel(\"Estimated Peak to Peak\\nFringe Amplitude [Percent]\",fontsize = 14,color = 'blue')\n",
    "plt.yscale('log')\n",
    "plt.grid()\n",
    "\n",
    "freqs2rm = 1./np.array([6.3,8.75,11.8,13.47,19.6,22.2,26.9,25,34.8,43.8])    ## location of prominent peaks in pre Feb 2024 1074 nm data\n",
    "for ff in freqs2rm: \n",
    "    plt.axvline(1/ff,ls = 'dashed',color = 'red',lw = 0.2)\n",
    "\n",
    "plt.title(\"Power Spectrum of Polarized Spectra\")\n",
    "plt.tight_layout()"
   ]
  },
  {
   "cell_type": "markdown",
   "id": "dac86e3a-852e-4236-94c9-2d52eb73cec7",
   "metadata": {},
   "source": [
    "## Create a fitting function for the full Stokes spectrum\n",
    "\n",
    "* The forward model in this case is considerable more complex; however the key principles are the same.\n",
    "* Additional features that must be taken into consideration are:\n",
    "    * Intensity to Q,U,V crosstalk\n",
    "    * Q,U to V crosstalk\n",
    "    * Polarized profiles of the parasistic photospheric scattered light\n",
    "* The model below utilizes some portion of the approach of Schad et al. (2022); however, it is assumed that \"most\" of the polarimetric crosstalk is already removed and that only small corrections are necessary.\n",
    "* For the I->Q,U,V crosstalk, we seek to optimize a model such that the solar photospheric lines have zero polarization in Q and U, and can be fit with an anti-symmetric Stokes V profile according to the weak field approximation.\n",
    "* For (Q,U) to V crosstalk, the contraint is that the coronal stokes V signal is expected to be antisymmetric in the weak field approximation.  (This may not be always physically true, but this approach is required at this stage).\n",
    "* V to Q,U is assumed to be neglible.\n",
    "* We do not zero out continuum polarization, but instead seek to recover the amplitude and direction of the linear polarized Thomson scattered K-corona. "
   ]
  },
  {
   "cell_type": "code",
   "execution_count": null,
   "id": "e63fe37f-e850-44f5-9476-d5b5b230abda",
   "metadata": {},
   "outputs": [],
   "source": [
    "## Define spectral weights to apply\n",
    "\n",
    "## STOKES I \n",
    "Iwgts = np.ones_like(specCoords)\n",
    "Iwgts[0:75] = 0  ## ....set edge weights to zero to mitigate flat field artifacts\n",
    "Iwgts[(-75):] = 0 ## ....set edge weights to zero to mitigate flat field artifacts\n",
    "Iwgts[(specCoords>(wvc-0.5))*(specCoords<(wvc+0.5))] = 5.  ## ...increase weights in vicintiy of the coronal line to bias the fit to this region \n",
    "Iwgts = Iwgts/np.max(Iwgts) ## ...normalize weights \n",
    "\n",
    "## Stokes Q and U weights (100 x that of I)\n",
    "Qwgts = Iwgts * 1\n",
    "Uwgts = Iwgts * 1\n",
    "\n",
    "## Stokes V\n",
    "Vwgts = Iwgts*0. \n",
    "Vwgts[(specCoords>(wvc-0.5))*(specCoords<(wvc+0.5))] = 1.  ## ...increase weights only in vicintiy of the coronal line to bias the fit to this region \n",
    "\n",
    "wv_mean = specCoords.mean()\n",
    "dwv = np.abs(specCoords[0]-specCoords[1])\n",
    "\n",
    "@njit(fastmath=True)\n",
    "def modelStokes(para,ii,qq,uu,vv,returnModel=False): \n",
    "    ''' Forward model of spectral line observation assuming single Gaussian profile for coronal line \n",
    "    \n",
    "        Parameters within para input list are: \n",
    "\n",
    "        lineAmp    -- Gaussian function amplitude of the coronal line in micro-B\n",
    "        lineCenWv  -- Coronal line center wavelength (including Doppler shift) in nm \n",
    "        lineWidth  -- Gaussian line width in nm  \n",
    "        LSF_RPOW   -- Resolving power of line spread function \n",
    "        opac       -- An opacity factor to modify total telluric line absorpance \n",
    "        velS       -- Velocity shift of solar atlas relative to observed spectrum\n",
    "        velT       -- Velocity shift of telluic atlas relative to observed spectrum\n",
    "        strayfrac  -- Additional scalar fraction of straylight within spectrograph (i.e. the \"veil\" component)\n",
    "        icont      -- Amplitude of the background continuum intensity (dominated by scattered light)\n",
    "    \n",
    "    '''\n",
    "    ## FIT VARIABLES..........................\n",
    "    lineAmp,lineCenWv,lineWidth,LSF_RPOW,opac,velS,velT,strayfrac,icont = para[:9]  ## intensity variables\n",
    "    linpol_frac,linpol_ang,BLOS_GAUSS,contPol_Q,contPol_U = para[9:14]   ## polarized amplitudes\n",
    "    i2q,i2u,i2v,q2v,u2v = para[14:19]  ## crosstalk terms \n",
    "    strayVamp= para[19:] ## amplitude scaling of the photosphere V signal under the weak field approximation \n",
    "\n",
    "    ## correct the input data for the crosstalk term \n",
    "    vv = vv - q2v*qq\n",
    "    vv = vv - u2v*uu\n",
    "    qq = qq - i2q*ii \n",
    "    uu = uu - i2u*ii \n",
    "    vv = vv - i2v*ii \n",
    "\n",
    "    ## coronal line Gaussian model \n",
    "    coronal_line = lineAmp*np.exp(-(specCoords-lineCenWv)**2/(2*lineWidth**2)) \n",
    "    \n",
    "    ## scattered light and telluric transmission models \n",
    "    ftsTmod = np.interp(specCoords,specCoords + velT/3e5*wv_mean,trans_telluric**opac)\n",
    "    ftsSmod = np.interp(specCoords,specCoords + velS/3e5*wv_mean,atlas_solar)\n",
    "    ftsmod  = ftsTmod * ftsSmod \n",
    "\n",
    "    ## add straylight and scale for amplitude\n",
    "    ftsmod = icont * (ftsmod + strayfrac) / (1. + strayfrac)\n",
    "    \n",
    "    ## combine components\n",
    "    ifit = ftsmod + (coronal_line * ftsTmod)     \n",
    "    \n",
    "    ## q and u fit \n",
    "    lfit = linpol_frac*coronal_line\n",
    "    qfit =  np.cos(2.*linpol_ang)*lfit  + contPol_Q \n",
    "    ufit = -np.sin(2.*linpol_ang)*lfit  + contPol_U\n",
    "\n",
    "    ## Coronal WFA longitudinal magnetic field (Lande geff = 1.5)\n",
    "    wfa_factor = -4.6686e-10 * (wvc*10.)**2 * 1.5 /1000./10.  ### in nm \n",
    "    vfit = wfa_factor * gradient_1d(coronal_line,specCoords[1]-specCoords[0]) * BLOS_GAUSS\n",
    "    \n",
    "    ## include telluric absorption in polarized states as well\n",
    "    qfit *= ftsTmod \n",
    "    ufit *= ftsTmod \n",
    "    vfit *= ftsTmod\n",
    "\n",
    "    ## Gaussian convolution of the FTS atlas\n",
    "    kern_pix  = (wvc / LSF_RPOW) / 2.3548200450309493 / dwv\n",
    "    ifit = gaussian_filter1d_numba(ifit, kern_pix) \n",
    "    qfit = gaussian_filter1d_numba(qfit, kern_pix) \n",
    "    ufit = gaussian_filter1d_numba(ufit, kern_pix) \n",
    "    vfit = gaussian_filter1d_numba(vfit, kern_pix) \n",
    "\n",
    "    ## Additional polarized photospheric circular polarization profile\n",
    "    vstray = ftsTmod * strayVamp * gradient_1d(ftsSmod,specCoords[1]-specCoords[0])\n",
    "    vstray = gaussian_filter1d_numba(vstray, kern_pix) \n",
    "\n",
    "    ## returns fitted i,q,u,v without crosstalk and photospherie v straylight \n",
    "    ## also correct qq,uu,vv and the vstraylight profile that is not removed from vv yet. \n",
    "    return  ifit,qfit,ufit,vfit,qq,uu,vv,vstray\n",
    "\n",
    "@njit(fastmath=True)\n",
    "def objFuncFullStokes(para,ii,qq,uu,vv):\n",
    "    ''' Objective function -- Reduced Chi-Squared Statistic ''' \n",
    "\n",
    "    ifit,qfit,ufit,vfit,qqc,uuc,vvc,vstray = modelStokes(para,ii,qq,uu,vv)\n",
    "\n",
    "    ## reduced Chi-Squared statistic \n",
    "    ires = np.sum((ii-ifit)**2 * Iwgts)   /np.sum(Iwgts)\n",
    "    qres = np.sum((qqc-qfit)**2 * Qwgts)  /np.sum(Qwgts)\n",
    "    ures = np.sum((uuc-ufit)**2 * Uwgts)  /np.sum(Uwgts)\n",
    "    vres = np.sum(((vvc-vstray)-vfit)**2  * Vwgts) /np.sum(Vwgts)\n",
    "\n",
    "    return  (ires+5*qres+5*ures+50*vres)/(61.)"
   ]
  },
  {
   "cell_type": "markdown",
   "id": "fbd57506-1734-4eb0-b69c-377e03edd724",
   "metadata": {},
   "source": [
    "## Example full Stokes fit"
   ]
  },
  {
   "cell_type": "code",
   "execution_count": null,
   "id": "2970a17c-7c86-4c4d-9568-0513b566e497",
   "metadata": {},
   "outputs": [],
   "source": [
    "%%time \n",
    "step = 12\n",
    "yp = 885\n",
    "ii = np.nanmean(data[0,step:(step+2),0,(yp-30):(yp+30),:],axis=(0,1))\n",
    "qq = np.nanmean(data[1,step:(step+2),0,(yp-30):(yp+30),:],axis=(0,1))\n",
    "uu = np.nanmean(data[2,step:(step+2),0,(yp-30):(yp+30),:],axis=(0,1))\n",
    "vv = np.nanmean(data[3,step:(step+2),0,(yp-30):(yp+30),:],axis=(0,1))"
   ]
  },
  {
   "cell_type": "code",
   "execution_count": null,
   "id": "ab510825-5509-48aa-846b-804422c1ee69",
   "metadata": {
    "scrolled": true
   },
   "outputs": [],
   "source": [
    "%%time \n",
    "## Bounds of the model variables\n",
    "pnames ='lineAmp','lineCenWv','lineWid','LSF_FWHM','opacity','velS','velT','strayfrac','icont','linpol_frac','linpol_ang','BLOS_GAUSS','contPol_Q','contPol_U','i2q','i2u','i2v','q2v','u2v','strayVamp'\n",
    "boundsFullStokes = [(0,2*(np.max(ii)-np.nanmedian(ii))),                            ## line ampltitude in millionths \n",
    "          (wvc*(1-10/3e5),wvc*(1.+10/3e5)),  ## coronal line center wavelength [nm]\n",
    "          (0.055,0.1),                       ## coronal Gaussian line width [nm]\n",
    "          (37000,65000),                  ## Resolving power of line spread function \n",
    "          (0.05,0.7),                          ## telluric opacity factor \n",
    "          (0,3),                             ## velocity shift in km/s for the solar atlas  [TUNED ACCORDING TO PRELIMINARY FITS]\n",
    "          (-3,0),                            ## velocity shift in km/s for the telluric atlas [TUNED ACCORDING TO PRELIMINARY FITS]\n",
    "          (0.,0.5),                          ## Spectrograph constant straylight fraction \n",
    "          (np.nanmedian(ii)-3,np.nanmedian(ii)+3),  ## Amplitude of the background scattered light in millionths    \n",
    "          (0.,0.1),(-np.pi/2,np.pi/2),(-50,50),  ## linpol_frac,linpol_ang,BLOS_GAUSS\n",
    "          (-1.5,1.5),(-1.5,1.5),  ## continuum polarization Q , same for U (millionths)\n",
    "          (-0.02,0.02),(-0.02,0.02),(-0.02,0.02), ## i->q,u,v crosstalk terms\n",
    "          (-0.2,0.2),(-0.2,0.2),(-0.02,0.02)]  ## q2v,u2v, strayVamp \n",
    "\n",
    "res2 = differential_evolution(objFuncFullStokes,boundsFullStokes,args = (ii,qq,uu,vv,),disp = True,tol=1.e-14,maxiter = 400,popsize = 1,polish = True) "
   ]
  },
  {
   "cell_type": "code",
   "execution_count": null,
   "id": "fc4ad180-270a-4a16-b9e8-26446f8184df",
   "metadata": {},
   "outputs": [],
   "source": [
    "print(f\"Objective function final value: {res2.fun}\")\n",
    "print(\"Parameter values...\")\n",
    "for n in range(len(res2.x)): \n",
    "    print(f\"{str(n).ljust(6)}  {pnames[n].rjust(10)}:  {res2.x[n]:10.4f}    Bounds (Min): {boundsFullStokes[n][0]:9.3f}   (Max): {boundsFullStokes[n][1]:9.3f}\")\n",
    "## Calculate fitted profile\n",
    "ifit,qfit,ufit,vfit,qqc,uuc,vvc,vstray = modelStokes(res2.x,ii,qq,uu,vv,returnModel=True)"
   ]
  },
  {
   "cell_type": "code",
   "execution_count": null,
   "id": "7fb87663-2d0c-4041-86a0-bc102a77740b",
   "metadata": {},
   "outputs": [],
   "source": [
    "fig,ax= plt.subplots(4,2,figsize = (10,5.5),sharex=True)\n",
    "\n",
    "dd = ii,qq,uu,vv \n",
    "ddc = ii,qqc,uuc,vvc -vstray\n",
    "ff = ifit,qfit,ufit,vfit # -vstray\n",
    "wgts = Iwgts,Qwgts,Uwgts,Vwgts\n",
    "\n",
    "for n in range(4): \n",
    "    ax[n][0].plot(specCoords,dd[n])\n",
    "    ax[n][0].twinx().plot(specCoords,wgts[n],ls = 'dashed',color = 'grey')\n",
    "    ax[n][1].plot(specCoords,ddc[n])\n",
    "    ax[n][1].plot(specCoords,ff[n])\n",
    "    ax[n][1].twinx().plot(specCoords,wgts[n],ls = 'dashed',color = 'grey')\n",
    "\n",
    "for axi in ax.flatten(): axi.grid()\n",
    "\n",
    "fig.tight_layout()"
   ]
  },
  {
   "cell_type": "markdown",
   "id": "fbc62035-c292-4eb5-bcda-63338c503ebb",
   "metadata": {},
   "source": [
    "## Fits across the raster map "
   ]
  },
  {
   "cell_type": "code",
   "execution_count": null,
   "id": "d4a89f9d-8a89-4a54-a233-2953ae425a2c",
   "metadata": {},
   "outputs": [],
   "source": [
    "def work(argin): \n",
    "    step,yp = argin \n",
    "\n",
    "    ii = np.nanmean(data[0,step:(step+2),0,(yp-20):(yp+20),:],axis=(0,1))\n",
    "    qq = np.nanmean(data[1,step:(step+2),0,(yp-20):(yp+20),:],axis=(0,1))\n",
    "    uu = np.nanmean(data[2,step:(step+2),0,(yp-20):(yp+20),:],axis=(0,1))\n",
    "    vv = np.nanmean(data[3,step:(step+2),0,(yp-20):(yp+20),:],axis=(0,1))\n",
    "    \n",
    "    boundsFullStokes = [(0,2*(np.max(ii)-np.nanmedian(ii))),                            ## line ampltitude in millionths \n",
    "          (wvc*(1-10/3e5),wvc*(1.+10/3e5)),  ## coronal line center wavelength [nm]\n",
    "          (0.055,0.1),                       ## coronal Gaussian line width [nm]\n",
    "          (37000,65000),                  ## Resolving power of line spread function \n",
    "          (0.05,0.7),                          ## telluric opacity factor \n",
    "          (0,3),                             ## velocity shift in km/s for the solar atlas  [TUNED ACCORDING TO PRELIMINARY FITS]\n",
    "          (-3,0),                            ## velocity shift in km/s for the telluric atlas [TUNED ACCORDING TO PRELIMINARY FITS]\n",
    "          (0.,0.5),                          ## Spectrograph constant straylight fraction \n",
    "          (np.nanmedian(ii)-3,np.nanmedian(ii)+3),  ## Amplitude of the background scattered light in millionths    \n",
    "          (0.,0.1),(-np.pi/2,np.pi/2),(-50,50),  ## linpol_frac,linpol_ang,BLOS_GAUSS\n",
    "          (-1.5,1.5),(-1.5,1.5),  ## continuum polarization Q , same for U (millionths)\n",
    "          (-0.02,0.02),(-0.02,0.02),(-0.02,0.02), ## i->q,u,v crosstalk terms\n",
    "          (-0.2,0.2),(-0.2,0.2),(-0.02,0.02)]  ## q2v,u2v, strayVamp \n",
    "        \n",
    "    try: \n",
    "        res = differential_evolution(objFuncFullStokes,boundsFullStokes,args = (ii,qq,uu,vv,),disp = False,tol=1.e-14,maxiter = 400,popsize = 1,polish = True)         \n",
    "        return step,yp,res.x,res.fun\n",
    "    except:\n",
    "        return step,yp,np.zeros(len(boundsFullStokes)),np.nan\n",
    "    return "
   ]
  },
  {
   "cell_type": "code",
   "execution_count": null,
   "id": "4c735417-44f9-46d6-a56c-fcf1892a19a0",
   "metadata": {},
   "outputs": [],
   "source": [
    "%%time   \n",
    "## View time for one fit \n",
    "step = n_scanSteps//2\n",
    "yp   = n_alongSlit//2\n",
    "step_out,yp_out,result_out,objfun_out = work((step,yp))\n",
    "print(objfun_out)"
   ]
  },
  {
   "cell_type": "code",
   "execution_count": null,
   "id": "451477c9-28ce-4ea5-b030-7590362fae87",
   "metadata": {
    "scrolled": true
   },
   "outputs": [],
   "source": [
    "## INITIAL FITTING EVERY 10 PIXELS ALONG THE SLIT \n",
    "pixel_stride = 10\n",
    "\n",
    "if 0: \n",
    "    ncpus = min(multiprocessing.cpu_count() , 70)\n",
    "    p     = multiprocessing.Pool(processes=ncpus,maxtasksperchild = 1000)\n",
    "    arg_array = []\n",
    "    for step in range(0,data.shape[1]): \n",
    "        for yp in range(5,data.shape[3]-5,pixel_stride): \n",
    "            arg_array.append((step,yp))\n",
    "\n",
    "    rs    = p.imap(work,arg_array)\n",
    "    p.close()\n",
    "    \n",
    "    pbar = tqdm(total=len(arg_array),position = 0, leave = True)\n",
    "\n",
    "    fit_results = np.zeros((data.shape[1],data.shape[3],len(boundsFullStokes)+1),dtype = float)\n",
    "    \n",
    "    for i,res in enumerate(rs):\n",
    "        step,yp,result_out,objfun_out = res \n",
    "        fit_results[step,yp,:(-1)] = result_out \n",
    "        fit_results[step,yp,-1] = objfun_out  \n",
    "        pbar.update()\n",
    "    pbar.close()\n",
    "\n",
    "    np.save(output_directory + 'FullStokes_line_fit_results.npy',fit_results)\n",
    "\n",
    "else:\n",
    "    fit_results = np.load(output_directory + 'FullStokes_line_fit_results.npy')"
   ]
  },
  {
   "cell_type": "markdown",
   "id": "7660e250-1f1d-4455-9a15-e818a5eeca1c",
   "metadata": {},
   "source": [
    "### Create figure showing Stokes spectral fits at one step"
   ]
  },
  {
   "cell_type": "code",
   "execution_count": null,
   "id": "aa2bf101-1a89-44af-9fb8-9064498da4a4",
   "metadata": {},
   "outputs": [],
   "source": [
    "## plot up some example spectra\n",
    "step = 11\n",
    "StokesSpec_Corr = np.zeros((4,n_alongSlit,n_wv))\n",
    "for yp in trange(5,data.shape[3]-5,pixel_stride): \n",
    "    try: \n",
    "        ii = np.nanmean(data[0,step:(step+2),0,(yp-30):(yp+30),:],axis=(0,1))\n",
    "        qq = np.nanmean(data[1,step:(step+2),0,(yp-30):(yp+30),:],axis=(0,1))\n",
    "        uu = np.nanmean(data[2,step:(step+2),0,(yp-30):(yp+30),:],axis=(0,1))\n",
    "        vv = np.nanmean(data[3,step:(step+2),0,(yp-30):(yp+30),:],axis=(0,1))\n",
    "        ifit,qfit,ufit,vfit,qqc,uuc,vvc,vstray = modelStokes(fit_results[step,yp,:(-1)],ii,qq,uu,vv,returnModel=True)\n",
    "        StokesSpec_Corr[:,yp,:] = ii,qqc,uuc,vvc\n",
    "    except:\n",
    "        continue"
   ]
  },
  {
   "cell_type": "code",
   "execution_count": null,
   "id": "5c804295-b626-4c01-9a92-53035e065c6f",
   "metadata": {},
   "outputs": [],
   "source": [
    "fig,ax = plt.subplots(1,4,figsize = (9,6),sharex=True,sharey=True)\n",
    "ax = ax.flatten()\n",
    "\n",
    "labels = 'Stokes I','Q','U','V'\n",
    "for n in range(4):\n",
    "    img2show = StokesSpec_Corr[n,5::pixel_stride]\n",
    "    imn = ax[n].imshow(img2show,extent = (specCoords[0],specCoords[-1],0,n_alongSlit*slitSamp),aspect = 'auto')\n",
    "    imgMin,imgMed,imgMax = np.nanpercentile(img2show,[1,50,99]) \n",
    "    imn.set_clim(imgMed - 0.5*(imgMax-imgMin),imgMed + 0.5*(imgMax-imgMin))\n",
    "    ax[n].set_title(labels[n] + r' [$\\mu$B$_{\\odot}$]')\n",
    "\n",
    "for axi in ax: \n",
    "    cax = axi.inset_axes([0.01, 1.01, 0.99, 0.03], transform=axi.transAxes)\n",
    "    cbar = fig.colorbar(axi.get_images()[0],ax=axi,cax=cax,location = 'top')\n",
    "\n",
    "fig.supxlabel(\"Wavelength [nm]\")\n",
    "fig.supylabel(\"Arcseconds along slit\")\n",
    "\n",
    "bbox = dict(boxstyle=\"round\", fc=\"white\")\n",
    "ax[3].annotate(\"Antisymmetric-V\\ncoronal\\nZeeman signal\", (1074.63,175),(1073.9,140.),bbox = bbox,\n",
    "               fontsize = 8, arrowprops=dict(facecolor='yellow', shrink=0.05,lw = 1),ha='left',va='center')\n",
    "\n",
    "fig.suptitle(\"Example Stokes Spectral Images with polarimetric crosstalk correction\",color = 'green',fontsize = 14,fontweight = 'bold')\n",
    "fig.tight_layout()"
   ]
  },
  {
   "cell_type": "markdown",
   "id": "8bdf3bdc-24b8-42b7-88ae-8c11daca0efc",
   "metadata": {},
   "source": [
    "### Create figure showing maps of quantities"
   ]
  },
  {
   "cell_type": "code",
   "execution_count": null,
   "id": "6f4f7a5b-c6bd-4b3f-8776-51e03318a45a",
   "metadata": {},
   "outputs": [],
   "source": [
    "plotTitles= [r\"Line Peak Amplitude [$\\mu$B$_{\\odot}$]\", \n",
    "             \"Doppler Shift [km/s]\\n(relative to median)\",'Coronal Line Width [nm]',\n",
    "             'Estimated Resolving\\nPower','Telluric Line \\nOpacity Factor',\n",
    "             'Velocity shift applied to\\nscat. phot. spectrum',\n",
    "             'Velocity shift applied to\\ntelluric transmission','Inferred Spectral\\nStraylight Fraction',\n",
    "             r'Background Intensity [$\\mu$B$_{\\odot}$]','Fe XIII Linear\\nPolarization Fraction','Fe XIII Linear\\nPolarization Angle',\n",
    "             'LOS Magnetic\\nField [Gauss]','Q Cont. Pol [$\\mu$B$_{\\odot}$]','U Cont. Pol [$\\mu$B$_{\\odot}$]','i2q xtalk','i2u xtalk','i2v xtalk','q2v crosstalk','u2v crosstalk','Photospheric Scattered\\nStokes V WFA Amp.',\n",
    "             'Merit Function']\n",
    "\n",
    "default_cmap = plt.get_cmap('viridis')\n",
    "default_cmap.set_bad('indigo')\n",
    "\n",
    "doppvel_cmap = plt.get_cmap('RdBu')\n",
    "doppvel_cmap.set_bad('white')\n",
    "\n",
    "fig,ax = plt.subplots(5,4,figsize = (12,10),sharex=True,sharey=True)\n",
    "ax = ax.flatten()\n",
    "for n in range(20): \n",
    "    paraMap = fit_results[:,:,n]\n",
    "    if n !=1: \n",
    "        imn = ax[n].imshow(paraMap[:,5::pixel_stride],extent = imgExtent,cmap = default_cmap,norm = PowerNorm(0.85))\n",
    "        imn.set_clim(np.nanpercentile(fit_results[:,5::pixel_stride,n][3:,:],[5,95]))\n",
    "    if n ==1: \n",
    "        median_wvc = np.nanmedian(paraMap[:,5::pixel_stride])\n",
    "        paraMap = (paraMap - median_wvc)/median_wvc*3e5\n",
    "        imn = ax[n].imshow(paraMap[:,5::pixel_stride],extent = imgExtent,cmap = doppvel_cmap)\n",
    "        imn.set_clim(-3,3)\n",
    "    ax[n].set_title(plotTitles[n],fontsize = 10)\n",
    "cbars = []\n",
    "for axi in ax:\n",
    "    cax = axi.inset_axes([1.04, 0.05, 0.05, 0.95], transform=axi.transAxes)\n",
    "    cbar1 = fig.colorbar(axi.get_images()[0],ax=axi,cax=cax)\n",
    "    cbars.append(cbar1)\n",
    "\n",
    "fig.suptitle(\"Spectropolarimetric Fit Parameters \\n\" + dataset_directory,fontsize = 18 )\n",
    "fig.supylabel(\"Arcseconds in Stepping Direction\",fontsize = 18)\n",
    "fig.supxlabel(\"Arcseconds along slit\",fontsize = 18)\n",
    "fig.tight_layout()  "
   ]
  },
  {
   "cell_type": "code",
   "execution_count": null,
   "id": "428268b8-ff15-4ebb-8a7f-cdd12c3db184",
   "metadata": {},
   "outputs": [],
   "source": []
  },
  {
   "cell_type": "code",
   "execution_count": null,
   "id": "da79f0b7-ca73-4347-badf-bcc692b0d2b1",
   "metadata": {},
   "outputs": [],
   "source": []
  },
  {
   "cell_type": "code",
   "execution_count": null,
   "id": "6d571d8a-a161-4db4-8ad5-78b9ec308f43",
   "metadata": {},
   "outputs": [],
   "source": []
  },
  {
   "cell_type": "code",
   "execution_count": null,
   "id": "739b794f-8cd0-4714-94d2-1d2c61cd1b49",
   "metadata": {},
   "outputs": [],
   "source": []
  },
  {
   "cell_type": "code",
   "execution_count": null,
   "id": "911e4c7c-d71f-449c-9f3b-370334ab2f72",
   "metadata": {},
   "outputs": [],
   "source": []
  },
  {
   "cell_type": "code",
   "execution_count": null,
   "id": "9b1a5485-14e0-47c0-9e1c-05dc05c17912",
   "metadata": {},
   "outputs": [],
   "source": []
  },
  {
   "cell_type": "code",
   "execution_count": null,
   "id": "481c93a3-708e-4590-bad3-cd284c3167f7",
   "metadata": {},
   "outputs": [],
   "source": []
  }
 ],
 "metadata": {
  "kernelspec": {
   "display_name": "Python 3 (ipykernel)",
   "language": "python",
   "name": "python3"
  },
  "language_info": {
   "codemirror_mode": {
    "name": "ipython",
    "version": 3
   },
   "file_extension": ".py",
   "mimetype": "text/x-python",
   "name": "python",
   "nbconvert_exporter": "python",
   "pygments_lexer": "ipython3",
   "version": "3.11.9"
  },
  "papermill": {
   "default_parameters": {},
   "duration": 4.781112,
   "end_time": "2024-06-27T19:22:34.075684",
   "environment_variables": {},
   "exception": null,
   "input_path": "./intensityLineFits_template.ipynb",
   "output_path": "./intensityLineFits_20231011T1827_SP_10747_BZPPN.ipynb",
   "parameters": {},
   "start_time": "2024-06-27T19:22:29.294572",
   "version": "2.6.0"
  },
  "widgets": {
   "application/vnd.jupyter.widget-state+json": {
    "state": {
     "07527c00429d4fae982109f7b87bc3ca": {
      "model_module": "@jupyter-widgets/controls",
      "model_module_version": "2.0.0",
      "model_name": "ProgressStyleModel",
      "state": {
       "description_width": ""
      }
     },
     "1b8b6892e7604bcba0bed0c8384a25dd": {
      "model_module": "@jupyter-widgets/controls",
      "model_module_version": "2.0.0",
      "model_name": "HTMLModel",
      "state": {
       "layout": "IPY_MODEL_c24fa80aa35d449ab66553941fc1ef95",
       "style": "IPY_MODEL_3b411087138241b59e81b085601c958f",
       "value": "100%"
      }
     },
     "36a269ac7e834e178561882325329781": {
      "model_module": "@jupyter-widgets/controls",
      "model_module_version": "2.0.0",
      "model_name": "HTMLStyleModel",
      "state": {
       "description_width": "",
       "font_size": null,
       "text_color": null
      }
     },
     "3b411087138241b59e81b085601c958f": {
      "model_module": "@jupyter-widgets/controls",
      "model_module_version": "2.0.0",
      "model_name": "HTMLStyleModel",
      "state": {
       "description_width": "",
       "font_size": null,
       "text_color": null
      }
     },
     "4af42a36e39c4c549f6d21fc56a1c282": {
      "model_module": "@jupyter-widgets/base",
      "model_module_version": "2.0.0",
      "model_name": "LayoutModel",
      "state": {}
     },
     "7b180198b7664ec688322c17008e6a57": {
      "model_module": "@jupyter-widgets/base",
      "model_module_version": "2.0.0",
      "model_name": "LayoutModel",
      "state": {}
     },
     "904fec5be76a49b38ac2e07cf6646c3a": {
      "model_module": "@jupyter-widgets/controls",
      "model_module_version": "2.0.0",
      "model_name": "FloatProgressModel",
      "state": {
       "bar_style": "success",
       "layout": "IPY_MODEL_bf16bd4437054c5b90610df596a5194a",
       "max": 510,
       "style": "IPY_MODEL_07527c00429d4fae982109f7b87bc3ca",
       "value": 510
      }
     },
     "bf16bd4437054c5b90610df596a5194a": {
      "model_module": "@jupyter-widgets/base",
      "model_module_version": "2.0.0",
      "model_name": "LayoutModel",
      "state": {}
     },
     "c24fa80aa35d449ab66553941fc1ef95": {
      "model_module": "@jupyter-widgets/base",
      "model_module_version": "2.0.0",
      "model_name": "LayoutModel",
      "state": {}
     },
     "c571f35852fe43c499fa4f9a8a3fae59": {
      "model_module": "@jupyter-widgets/controls",
      "model_module_version": "2.0.0",
      "model_name": "HTMLModel",
      "state": {
       "layout": "IPY_MODEL_7b180198b7664ec688322c17008e6a57",
       "style": "IPY_MODEL_36a269ac7e834e178561882325329781",
       "value": " 510/510 [00:05&lt;00:00, 111.07it/s]"
      }
     },
     "d452c58a456245a9abf05e2f8154d890": {
      "model_module": "@jupyter-widgets/controls",
      "model_module_version": "2.0.0",
      "model_name": "HBoxModel",
      "state": {
       "children": [
        "IPY_MODEL_1b8b6892e7604bcba0bed0c8384a25dd",
        "IPY_MODEL_904fec5be76a49b38ac2e07cf6646c3a",
        "IPY_MODEL_c571f35852fe43c499fa4f9a8a3fae59"
       ],
       "layout": "IPY_MODEL_4af42a36e39c4c549f6d21fc56a1c282"
      }
     }
    },
    "version_major": 2,
    "version_minor": 0
   }
  }
 },
 "nbformat": 4,
 "nbformat_minor": 5
}
